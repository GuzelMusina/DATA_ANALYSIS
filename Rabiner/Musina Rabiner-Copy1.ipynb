{
 "cells": [
  {
   "cell_type": "code",
   "execution_count": 2,
   "metadata": {
    "id": "W439bXXbFnrp"
   },
   "outputs": [],
   "source": [
    "import quantecon as qe\n",
    "import numpy as np\n",
    "import pandas as pd"
   ]
  },
  {
   "cell_type": "code",
   "execution_count": 3,
   "metadata": {
    "id": "_3jjIZOqFnrs"
   },
   "outputs": [],
   "source": [
    "p1 = np.array([[0.1, 0.5, 0.4], \n",
    "      [0.3,   0.3,  0.4], \n",
    "      [0.8,   0.1,   0.1]])\n",
    "\n",
    "p2 = np.array([[0.1, 0.5, 0.4], \n",
    "      [0.3,   0.3,  0.4], \n",
    "      [0.8,   0,   0.2]])\n",
    "\n",
    "p3 = np.array([[0.5, 0, 0.5], \n",
    "      [0.05,   0.05,  0.9], \n",
    "      [0.05,   0.9,   0.05]])\n",
    "\n",
    "p4 = np.array([[1/3, 1/3,1/3], \n",
    "      [1/3,   1/3,  1/3], \n",
    "      [1/3,   1/3,   1/3]])\n",
    "\n",
    "pi=[[1, 0, 0]]\n",
    "\n"
   ]
  },
  {
   "cell_type": "code",
   "execution_count": 4,
   "metadata": {
    "id": "ZzoEkLMMFnru",
    "outputId": "d33e347e-2af0-49ca-ba06-7e2dc1393593"
   },
   "outputs": [],
   "source": [
    "# p1=[*zip(*p1)]\n",
    "# p2=[*zip(*p2)]\n",
    "# p3=[*zip(*p3)]\n",
    "# p4=[*zip(*p4)]\n",
    "# print(p1, 'P1')\n",
    "# print(p2, 'P2')\n",
    "# print(p3, 'P3')\n",
    "# print(p4, 'P4')"
   ]
  },
  {
   "cell_type": "code",
   "execution_count": 5,
   "metadata": {
    "id": "4P_7pOITFnry",
    "outputId": "2cb885e2-bcb0-494d-c304-748e2262dd3e"
   },
   "outputs": [
    {
     "name": "stdout",
     "output_type": "stream",
     "text": [
      "[[0.1 0.5 0.4]\n",
      " [0.3 0.3 0.4]\n",
      " [0.8 0.1 0.1]] P1\n",
      "[[0.1 0.5 0.4]\n",
      " [0.3 0.3 0.4]\n",
      " [0.8 0.  0.2]] P2\n",
      "[[0.5  0.   0.5 ]\n",
      " [0.05 0.05 0.9 ]\n",
      " [0.05 0.9  0.05]] P3\n",
      "[[0.33333333 0.33333333 0.33333333]\n",
      " [0.33333333 0.33333333 0.33333333]\n",
      " [0.33333333 0.33333333 0.33333333]] P4\n"
     ]
    }
   ],
   "source": [
    "p1=np.array(p1)\n",
    "p2=np.array(p2)\n",
    "p3=np.array(p3)\n",
    "p4=np.array(p4)\n",
    "print(p1, 'P1')\n",
    "print(p2, 'P2')\n",
    "print(p3, 'P3')\n",
    "print(p4, 'P4')\n"
   ]
  },
  {
   "cell_type": "code",
   "execution_count": 6,
   "metadata": {
    "id": "cUS7SUSPFnr2"
   },
   "outputs": [],
   "source": [
    "from itertools import *"
   ]
  },
  {
   "cell_type": "code",
   "execution_count": 7,
   "metadata": {
    "id": "Qj7Il43eFnr8",
    "outputId": "1514b53a-f6a5-4e09-cc2d-d948152e93aa"
   },
   "outputs": [
    {
     "name": "stdout",
     "output_type": "stream",
     "text": [
      "<bound method MarkovChain.__repr__ of Markov chain with transition matrix \n",
      "P = \n",
      "[[0.1 0.5 0.4]\n",
      " [0.3 0.3 0.4]\n",
      " [0.8 0.1 0.1]]> MC p1\n",
      "<bound method MarkovChain.__repr__ of Markov chain with transition matrix \n",
      "P = \n",
      "[[0.1 0.5 0.4]\n",
      " [0.3 0.3 0.4]\n",
      " [0.8 0.  0.2]]> MC p2\n",
      "<bound method MarkovChain.__repr__ of Markov chain with transition matrix \n",
      "P = \n",
      "[[0.5  0.   0.5 ]\n",
      " [0.05 0.05 0.9 ]\n",
      " [0.05 0.9  0.05]]> MC p3\n",
      "<bound method MarkovChain.__repr__ of Markov chain with transition matrix \n",
      "P = \n",
      "[[0.33333333 0.33333333 0.33333333]\n",
      " [0.33333333 0.33333333 0.33333333]\n",
      " [0.33333333 0.33333333 0.33333333]]> MC p4\n"
     ]
    }
   ],
   "source": [
    "mcp1 = qe.MarkovChain(p1)\n",
    "mcp2 = qe.MarkovChain(p2)\n",
    "mcp3 = qe.MarkovChain(p3)\n",
    "mcp4 = qe.MarkovChain(p4)\n",
    "\n",
    "print(mcp1, \"MC p1\")\n",
    "print(mcp2, \"MC p2\")\n",
    "print(mcp3, \"MC p3\")\n",
    "print(mcp4, \"MC p4\")"
   ]
  },
  {
   "cell_type": "code",
   "execution_count": 8,
   "metadata": {
    "id": "977HbHtjFnr_",
    "outputId": "81d2ef75-0cbd-4aaa-a099-af32cd36ba76"
   },
   "outputs": [
    {
     "name": "stdout",
     "output_type": "stream",
     "text": [
      "[1 1 3 2 3 1] Последовательность\n"
     ]
    }
   ],
   "source": [
    "#симулиция последовательности, длина 1000\n",
    "s = np.array([1,1,3,2,3,1])\n",
    "print(s, \"Последовательность\")"
   ]
  },
  {
   "cell_type": "code",
   "execution_count": 9,
   "metadata": {
    "id": "UXULruu-FnsE"
   },
   "outputs": [],
   "source": [
    "# array=np.column_stack((a1, a2,a3,a4,a5,a6,a7,a8,a9,a10))"
   ]
  },
  {
   "cell_type": "code",
   "execution_count": 10,
   "metadata": {
    "id": "8-DoM__aFnsG",
    "outputId": "0aa34ee0-4e4a-4160-868f-3b5e6a9a29e7"
   },
   "outputs": [],
   "source": [
    "# df = pd.DataFrame(array)\n",
    "\n",
    "# df[0]=[1,0,0,2,1,2,1,2,0,3]\n",
    "# display(df.head(20))"
   ]
  },
  {
   "cell_type": "code",
   "execution_count": 11,
   "metadata": {
    "id": "jMeTupRPFnsJ",
    "outputId": "bb72efea-b5b8-44c6-c70c-a03bcb69f939"
   },
   "outputs": [],
   "source": [
    "# #Расчет вектора альфа методом Рабинера\n",
    "# alfa= np.zeros((10, 4))\n",
    "# alfa"
   ]
  },
  {
   "cell_type": "code",
   "execution_count": 12,
   "metadata": {
    "id": "OwmefkUOFnsL",
    "outputId": "62ebb769-8e01-4d0b-c4e7-9112877deca4"
   },
   "outputs": [],
   "source": [
    "\n",
    "# beta=np.array([[0.0,0.0,0.0,0.0],\n",
    "#             [0,0,0,0],\n",
    "#             [0,0,0,0],\n",
    "#             [0,0,0,0],\n",
    "#             [0,0,0,0],\n",
    "#             [0,0,0,0],\n",
    "#             [0,0,0,0],\n",
    "#             [0,0,0,0],\n",
    "#             [0,0,0,0],\n",
    "#             [0,0,0,0]])\n",
    "\n",
    "# beta"
   ]
  },
  {
   "cell_type": "code",
   "execution_count": 13,
   "metadata": {
    "id": "0FgAT_8KFnsO",
    "outputId": "373ba871-93b9-4192-c2b0-832876f39635"
   },
   "outputs": [],
   "source": [
    "# pi=np.array([1/4,    1/4,  1/4,    1/4])\n",
    "# pi"
   ]
  },
  {
   "cell_type": "code",
   "execution_count": 14,
   "metadata": {
    "id": "0ERN_aW7FnsS",
    "outputId": "1271c57f-5a9a-46d7-bf16-6d41f45ad5cf"
   },
   "outputs": [],
   "source": [
    "#  df[0].iloc[1:]\n"
   ]
  },
  {
   "cell_type": "code",
   "execution_count": 15,
   "metadata": {
    "id": "cS_mZep0FnsU",
    "outputId": "6cc6d1f9-5c07-4788-ea56-5ccbf992d810"
   },
   "outputs": [],
   "source": [
    "# k=df.loc[0][0]    \n",
    "# print(k,\"K\", '\\n')\n",
    "# print(pi[k], \"Pi\", '\\n')\n",
    "\n",
    "# alfa[0][1]=pi[k]\n",
    "\n",
    "# print(alfa, 'alfa')"
   ]
  },
  {
   "cell_type": "code",
   "execution_count": 16,
   "metadata": {},
   "outputs": [
    {
     "data": {
      "text/plain": [
       "array([[0., 0., 0.],\n",
       "       [0., 0., 0.],\n",
       "       [0., 0., 0.],\n",
       "       [0., 0., 0.]])"
      ]
     },
     "execution_count": 16,
     "metadata": {},
     "output_type": "execute_result"
    }
   ],
   "source": [
    "alfa1= np.zeros((4,3))\n",
    "alfa2= np.zeros((4, 3))\n",
    "alfa3= np.zeros((4, 3))\n",
    "alfa4= np.zeros((4, 3))\n",
    "alfa5= np.zeros((4, 3))\n",
    "alfa6= np.zeros((4, 3))\n",
    "alfa1"
   ]
  },
  {
   "cell_type": "code",
   "execution_count": 17,
   "metadata": {},
   "outputs": [
    {
     "name": "stdout",
     "output_type": "stream",
     "text": [
      "1\n",
      "3\n",
      "2\n",
      "3\n",
      "1\n",
      "[1, 0, 0]\n"
     ]
    }
   ],
   "source": [
    "# print(s, 'S')\n",
    "# print(s[1:6], \"s 1-6\")\n",
    "\n",
    "for i in s[1:6]:  \n",
    "    print(i)\n",
    "\n",
    "print(pi[0])"
   ]
  },
  {
   "cell_type": "code",
   "execution_count": 29,
   "metadata": {},
   "outputs": [
    {
     "name": "stdout",
     "output_type": "stream",
     "text": [
      "[[0.1 0.  0. ]\n",
      " [0.  0.  0. ]\n",
      " [0.  0.  0. ]\n",
      " [0.  0.  0. ]]\n"
     ]
    }
   ],
   "source": [
    "# alfa[2][1]\n",
    "# alfa2[j]=\"%.3f\" % np.dot(alfa1[j], p1[s[1]-1])\n",
    "# alfa2[0]=\"%.3f\" % np.dot(alfa2[0], p1[s[1]])\n",
    "\n",
    "alfa2[0][0]=\"%.3f\" % np.dot(alfa1[0], p1[0])\n",
    "print(alfa2)"
   ]
  },
  {
   "cell_type": "code",
   "execution_count": 27,
   "metadata": {},
   "outputs": [
    {
     "name": "stdout",
     "output_type": "stream",
     "text": [
      "0.0\n"
     ]
    }
   ],
   "source": [
    "alfa2= np.zeros((4, 3))\n",
    "# alfa2[0][0][0]=\"%.3f\" % np.dot(alfa1[0], p1[0])\n",
    "# alfa2[1][0][0]=\"%.3f\" % np.dot(alfa1[0], p2[0])\n",
    "print(alfa2[0][0])"
   ]
  },
  {
   "cell_type": "code",
   "execution_count": 28,
   "metadata": {},
   "outputs": [
    {
     "data": {
      "text/plain": [
       "'0.036'"
      ]
     },
     "execution_count": 28,
     "metadata": {},
     "output_type": "execute_result"
    }
   ],
   "source": [
    "\"%.3f\" % np.dot(alfa3[2-1], p3[:,1])"
   ]
  },
  {
   "cell_type": "code",
   "execution_count": 21,
   "metadata": {
    "id": "Gq0bEiVzFnse",
    "outputId": "50d8db53-a3a6-47f9-d23f-5f228caf9fb5"
   },
   "outputs": [
    {
     "name": "stdout",
     "output_type": "stream",
     "text": [
      "2\n",
      "[[1. 0. 0.]\n",
      " [1. 0. 0.]\n",
      " [1. 0. 0.]\n",
      " [1. 0. 0.]] \n",
      " [[0.1   0.    0.   ]\n",
      " [0.1   0.    0.   ]\n",
      " [0.5   0.    0.   ]\n",
      " [0.333 0.    0.   ]] \n",
      " [[0.    0.    0.04 ]\n",
      " [0.    0.    0.04 ]\n",
      " [0.    0.    0.25 ]\n",
      " [0.    0.    0.111]] \n",
      " [[0.    0.004 0.   ]\n",
      " [0.    0.    0.   ]\n",
      " [0.    0.225 0.   ]\n",
      " [0.    0.037 0.   ]] \n",
      " [[0.    0.    0.002]\n",
      " [0.    0.    0.   ]\n",
      " [0.    0.    0.203]\n",
      " [0.    0.    0.012]] \n",
      " [[0.002 0.    0.   ]\n",
      " [0.    0.    0.   ]\n",
      " [0.01  0.    0.   ]\n",
      " [0.004 0.    0.   ]]\n"
     ]
    },
    {
     "data": {
      "text/plain": [
       "[array([[1., 0., 0.],\n",
       "        [1., 0., 0.],\n",
       "        [1., 0., 0.],\n",
       "        [1., 0., 0.]]), array([[0.1  , 0.   , 0.   ],\n",
       "        [0.1  , 0.   , 0.   ],\n",
       "        [0.5  , 0.   , 0.   ],\n",
       "        [0.333, 0.   , 0.   ]]), array([[0.   , 0.   , 0.04 ],\n",
       "        [0.   , 0.   , 0.04 ],\n",
       "        [0.   , 0.   , 0.25 ],\n",
       "        [0.   , 0.   , 0.111]]), array([[0.   , 0.004, 0.   ],\n",
       "        [0.   , 0.   , 0.   ],\n",
       "        [0.   , 0.225, 0.   ],\n",
       "        [0.   , 0.037, 0.   ]]), array([[0.   , 0.   , 0.002],\n",
       "        [0.   , 0.   , 0.   ],\n",
       "        [0.   , 0.   , 0.203],\n",
       "        [0.   , 0.   , 0.012]]), array([[0.002, 0.   , 0.   ],\n",
       "        [0.   , 0.   , 0.   ],\n",
       "        [0.01 , 0.   , 0.   ],\n",
       "        [0.004, 0.   , 0.   ]])]"
      ]
     },
     "execution_count": 21,
     "metadata": {},
     "output_type": "execute_result"
    }
   ],
   "source": [
    "def vecalfa():\n",
    "\n",
    "    k=s[0]\n",
    "    for i in range(1,7):\n",
    "        if i == 1:\n",
    "            for j in range(0,4):\n",
    "                alfa1[j]=pi[0]\n",
    "#             print(alfa1)\n",
    "            \n",
    "        if i == 2:\n",
    "            k=s[i-1]-1\n",
    "            for j in range(0,4):\n",
    "                if j == 0:\n",
    "                    alfa2[j][k]=\"%.3f\" % np.dot(alfa1[j], p1[:,k])\n",
    "                if j == 1:\n",
    "                    alfa2[j][k]=\"%.3f\" % np.dot(alfa1[j], p2[:,k])\n",
    "                if j == 2:\n",
    "                    alfa2[j][k]=\"%.3f\" % np.dot(alfa1[j], p3[:,k])\n",
    "                if j == 3:\n",
    "                    alfa2[j][k]=\"%.3f\" % np.dot(alfa1[j], p4[:,k])\n",
    "                \n",
    "#             print(alfa2)\n",
    "            \n",
    "        if i == 3:\n",
    "\n",
    "            k=s[i-1]-1\n",
    "            print(k)\n",
    "            for j in range(0,4):\n",
    "                if j == 0:\n",
    "                    alfa3[j][k]=\"%.3f\" % np.dot(alfa2[j], p1[:,k])\n",
    "                if j == 1:\n",
    "                    alfa3[j][k]=\"%.3f\" % np.dot(alfa2[j], p2[:,k])\n",
    "                if j == 2:\n",
    "                    alfa3[j][k]=\"%.3f\" % np.dot(alfa2[j], p3[:,k])\n",
    "                if j == 3:\n",
    "                    alfa3[j][k]=\"%.3f\" % np.dot(alfa2[j], p4[:,k])\n",
    "                \n",
    "#             print(alfa3)\n",
    "           \n",
    "        if i == 4:\n",
    "\n",
    "            k=s[i-1]-1\n",
    "            for j in range(0,4):\n",
    "                if j == 0:\n",
    "                    alfa4[j][k]=\"%.3f\" % np.dot(alfa3[j], p1[:,k])\n",
    "                if j == 1:\n",
    "                    alfa4[j][k]=\"%.3f\" % np.dot(alfa3[j], p2[:,k])\n",
    "                if j == 2:\n",
    "                    alfa4[j][k]=\"%.3f\" % np.dot(alfa3[j], p3[:,k])\n",
    "                if j == 3:\n",
    "                    alfa4[j][k]=\"%.3f\" % np.dot(alfa3[j], p4[:,k])\n",
    "                \n",
    "#             print(alfa4)  \n",
    "        if i == 5:\n",
    "\n",
    "            k=s[i-1]-1\n",
    "            for j in range(0,4):\n",
    "                if j == 0:\n",
    "                    alfa5[j][k]=\"%.3f\" % np.dot(alfa4[j], p1[:,k])\n",
    "                if j == 1:\n",
    "                    alfa5[j][k]=\"%.3f\" % np.dot(alfa4[j], p2[:,k])\n",
    "                if j == 2:\n",
    "                    alfa5[j][k]=\"%.3f\" % np.dot(alfa4[j], p3[:,k])\n",
    "                if j == 3:\n",
    "                    alfa5[j][k]=\"%.3f\" % np.dot(alfa4[j], p4[:,k])\n",
    "                \n",
    "#             print(alfa5)  \n",
    "        if i == 6:\n",
    "            k=s[i-1]-1\n",
    "            for j in range(0,4):\n",
    "                if j == 0:\n",
    "                    alfa6[j][k]=\"%.3f\" % np.dot(alfa5[j], p1[:,k])\n",
    "                if j == 1:\n",
    "                    alfa6[j][k]=\"%.3f\" % np.dot(alfa5[j], p2[:,k])\n",
    "                if j == 2:\n",
    "                    alfa6[j][k]=\"%.3f\" % np.dot(alfa5[j], p3[:,k])\n",
    "                if j == 3:\n",
    "                    alfa6[j][k]=\"%.3f\" % np.dot(alfa5[j], p4[:,k])\n",
    "                \n",
    "#             print(alfa6)  \n",
    "\n",
    "    print(alfa1, '\\n', alfa2,'\\n', alfa3, '\\n', alfa4,'\\n', alfa5,'\\n', alfa6 )\n",
    "    return [alfa1,alfa2,alfa3,alfa4,alfa5,alfa6]\n",
    "          \n",
    "vecalfa()\n"
   ]
  },
  {
   "cell_type": "code",
   "execution_count": 22,
   "metadata": {},
   "outputs": [],
   "source": [
    "# print(alfa2[2])\n",
    "# print(p3[:,2])\n",
    "# print(alfa3)\n",
    "# print(p3)\n",
    "# \"%.3f\" % np.dot(alfa2[2], p3[:,1])"
   ]
  },
  {
   "cell_type": "code",
   "execution_count": null,
   "metadata": {},
   "outputs": [],
   "source": []
  },
  {
   "cell_type": "code",
   "execution_count": 23,
   "metadata": {
    "id": "QB0J2WIzFnsh",
    "outputId": "86981c81-77a5-44e0-e774-f6ab6ea7ca13"
   },
   "outputs": [],
   "source": [
    "# ii=[0,1,2,3,4,5,6,7,8,9]\n",
    "\n",
    "# for d in ii:\n",
    "#         vecalfa(d)\n",
    "#         print(alfa) \n",
    "        "
   ]
  },
  {
   "cell_type": "code",
   "execution_count": 24,
   "metadata": {
    "id": "r47pgZC1Fns9"
   },
   "outputs": [],
   "source": [
    "# ii=[0,1,2,3,4,5,6,7,8,9]\n",
    "# j=0\n",
    "# for d in ii:\n",
    "   \n",
    "#     for i in df[d].iloc[1:]:    \n",
    "\n",
    "#         alfa[j,i]=np.dot(alfa[j], tvt[i])\n",
    "#         j=j+1\n",
    "#     d=d+1   \n",
    "# alfa   \n"
   ]
  },
  {
   "cell_type": "code",
   "execution_count": 25,
   "metadata": {
    "id": "rEvKU5buFns_"
   },
   "outputs": [],
   "source": [
    "import numpy as np\n",
    " \n",
    "class MarkovChain(object):\n",
    "    def __init__(self, transition_prob):\n",
    "      \n",
    "        self.transition_prob = transition_prob\n",
    "        self.states = list(transition_prob.keys())\n",
    " \n",
    "    def next_state(self, current_state):\n",
    "        \n",
    "        next_ = np.random.choice(self.states, p = [\n",
    "              self.transition_prob[current_state][next_state] \n",
    "               for next_state in self.states]\n",
    "        )\n",
    "        return next_\n",
    " \n",
    "    def generate_states(self, current_state, no=10):\n",
    "      \n",
    "        future_states = []\n",
    "        for i in range(no):\n",
    "            next_state = self.next_state(current_state)\n",
    "            future_states.append(next_state)\n",
    "            current_state = next_state\n",
    "\n",
    "        return ''.join(future_states)"
   ]
  },
  {
   "cell_type": "code",
   "execution_count": 26,
   "metadata": {
    "id": "Qsvk9eL8FntC"
   },
   "outputs": [],
   "source": [
    "def MarkovMatrix(n = 26):\n",
    "\n",
    "    np.random.seed(0) # for replicability\n",
    "    symbols = [chr(i+65) for i in range(n)] # list of available symbols\n",
    "\n",
    "    markov_matrix = {}\n",
    "    for i, s in enumerate(symbols):\n",
    "        dim = len(symbols)\n",
    "\n",
    "        probs = np.random.random(dim*3) \n",
    "        probs.sort()\n",
    "        probs = np.append(probs[dim%2::2], probs[::-2])\n",
    "        offset = -int(dim*1.5)\n",
    "        probs = np.roll(probs, offset+i)[:dim] \n",
    "        probs /= probs.sum()\n",
    "    \n",
    "        markov_matrix[s] = {s: p for s, p in zip(symbols, probs)}\n",
    "        print(markov_matrix[s])\n",
    "\n",
    "    print(markov_matrix)\n",
    "    \n",
    "    return markov_matrix"
   ]
  },
  {
   "cell_type": "code",
   "execution_count": null,
   "metadata": {
    "id": "4kIkSpDgFntE"
   },
   "outputs": [],
   "source": []
  },
  {
   "cell_type": "code",
   "execution_count": null,
   "metadata": {
    "id": "7rKD3cDeFntG"
   },
   "outputs": [],
   "source": []
  }
 ],
 "metadata": {
  "colab": {
   "name": "Untitled70.ipynb",
   "provenance": []
  },
  "kernelspec": {
   "display_name": "Python 3",
   "language": "python",
   "name": "python3"
  },
  "language_info": {
   "codemirror_mode": {
    "name": "ipython",
    "version": 3
   },
   "file_extension": ".py",
   "mimetype": "text/x-python",
   "name": "python",
   "nbconvert_exporter": "python",
   "pygments_lexer": "ipython3",
   "version": "3.7.3"
  }
 },
 "nbformat": 4,
 "nbformat_minor": 4
}
