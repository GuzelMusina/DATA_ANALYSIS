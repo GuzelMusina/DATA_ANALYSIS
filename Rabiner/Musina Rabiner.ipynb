{
 "cells": [
  {
   "cell_type": "markdown",
   "metadata": {
    "id": "kp5dvkLpNf1n"
   },
   "source": []
  },
  {
   "cell_type": "markdown",
   "metadata": {
    "id": "UNYgYJZuFnro"
   },
   "source": [
    "Этапы эксперимента:\n",
    "1. генерация подклассов матриц ТВ, ТН, БП, БЛ q=4\n",
    "2. генерация подклассов k=q^b\n",
    "3. генерация последовательностей 5 последовательностей B=5\n",
    "4. функция расчета вектора a (метод рабинера)\n",
    "5. формирование датасета b^k векторов"
   ]
  },
  {
   "cell_type": "code",
   "execution_count": 1,
   "metadata": {
    "id": "W439bXXbFnrp"
   },
   "outputs": [],
   "source": [
    "import quantecon as qe\n",
    "import numpy as np\n",
    "import pandas as pd"
   ]
  },
  {
   "cell_type": "code",
   "execution_count": 2,
   "metadata": {
    "id": "_3jjIZOqFnrs"
   },
   "outputs": [],
   "source": [
    "tv = np.array([[0.25, 0.25, 0.25, 0.25], \n",
    "      [1/3,   1/3,  1/3,  0], \n",
    "      [0.5,   0.5,   0,   0],\n",
    "      [0.5,   0,     0,   0.5]])\n",
    "\n",
    "tn = np.array( [[0.5,  0,     0,    0.5], \n",
    "      [0,    0,     0.5,  0.5],\n",
    "      [0,    1/3,   1/3,  1/3],\n",
    "      [0.25, 0.25, 0.25, 0.25]])\n",
    "\n",
    "bp =  np.array( [[0,      0,    0.5,   0.5],\n",
    "                [0,      0,     0.5,   0.5],\n",
    "                [0.5,    0.5,   0,    0], \n",
    "                [0.5,    0.5,   0,    0]])\n",
    "\n",
    "bl =   np.array([[0.5,    0.5, 0,    0], \n",
    "      [0.5,    0.5,  0,    0],\n",
    "      [0,      0,    0.5,   0.5],\n",
    "      [0,      0,    0.5,   0.5]])"
   ]
  },
  {
   "cell_type": "code",
   "execution_count": 3,
   "metadata": {
    "id": "ZzoEkLMMFnru",
    "outputId": "d33e347e-2af0-49ca-ba06-7e2dc1393593"
   },
   "outputs": [
    {
     "data": {
      "text/plain": [
       "[(0.25, 0.3333333333333333, 0.5, 0.5),\n",
       " (0.25, 0.3333333333333333, 0.5, 0.0),\n",
       " (0.25, 0.3333333333333333, 0.0, 0.0),\n",
       " (0.25, 0.0, 0.0, 0.5)]"
      ]
     },
     "execution_count": 3,
     "metadata": {},
     "output_type": "execute_result"
    }
   ],
   "source": [
    "tvt=[*zip(*tv)]\n",
    "tvt"
   ]
  },
  {
   "cell_type": "code",
   "execution_count": 4,
   "metadata": {
    "id": "4P_7pOITFnry",
    "outputId": "2cb885e2-bcb0-494d-c304-748e2262dd3e"
   },
   "outputs": [
    {
     "data": {
      "text/plain": [
       "array([[0.25      , 0.33333333, 0.5       , 0.5       ],\n",
       "       [0.25      , 0.33333333, 0.5       , 0.        ],\n",
       "       [0.25      , 0.33333333, 0.        , 0.        ],\n",
       "       [0.25      , 0.        , 0.        , 0.5       ]])"
      ]
     },
     "execution_count": 4,
     "metadata": {},
     "output_type": "execute_result"
    }
   ],
   "source": [
    "tvt=np.array(tvt)\n",
    "tvt"
   ]
  },
  {
   "cell_type": "code",
   "execution_count": 5,
   "metadata": {
    "id": "5TJG611YFnr0",
    "outputId": "f536d619-55d6-478e-95f8-9c411623539e"
   },
   "outputs": [
    {
     "data": {
      "text/plain": [
       "[[0.25, 0.25, 0.25, 0.25]]"
      ]
     },
     "execution_count": 5,
     "metadata": {},
     "output_type": "execute_result"
    }
   ],
   "source": [
    "pi=[[1/4,    1/4,  1/4,    1/4]]\n",
    "pi"
   ]
  },
  {
   "cell_type": "code",
   "execution_count": 6,
   "metadata": {
    "id": "cUS7SUSPFnr2"
   },
   "outputs": [],
   "source": [
    "from itertools import *"
   ]
  },
  {
   "cell_type": "code",
   "execution_count": 7,
   "metadata": {
    "id": "ptZq503eFnr4",
    "outputId": "b3c73e84-925a-4f24-ef99-546182665d84"
   },
   "outputs": [
    {
     "name": "stdout",
     "output_type": "stream",
     "text": [
      "('tv', 'tv', 'tv', 'tv') ('tv', 'tv', 'tv', 'tn') ('tv', 'tv', 'tv', 'bp') ('tv', 'tv', 'tv', 'pl') ('tv', 'tv', 'tn', 'tn') ('tv', 'tv', 'tn', 'bp') ('tv', 'tv', 'tn', 'pl') ('tv', 'tv', 'bp', 'bp') ('tv', 'tv', 'bp', 'pl') ('tv', 'tv', 'pl', 'pl') ('tv', 'tn', 'tn', 'tn') ('tv', 'tn', 'tn', 'bp') ('tv', 'tn', 'tn', 'pl') ('tv', 'tn', 'bp', 'bp') ('tv', 'tn', 'bp', 'pl') ('tv', 'tn', 'pl', 'pl') ('tv', 'bp', 'bp', 'bp') ('tv', 'bp', 'bp', 'pl') ('tv', 'bp', 'pl', 'pl') ('tv', 'pl', 'pl', 'pl') ('tn', 'tn', 'tn', 'tn') ('tn', 'tn', 'tn', 'bp') ('tn', 'tn', 'tn', 'pl') ('tn', 'tn', 'bp', 'bp') ('tn', 'tn', 'bp', 'pl') ('tn', 'tn', 'pl', 'pl') ('tn', 'bp', 'bp', 'bp') ('tn', 'bp', 'bp', 'pl') ('tn', 'bp', 'pl', 'pl') ('tn', 'pl', 'pl', 'pl') ('bp', 'bp', 'bp', 'bp') ('bp', 'bp', 'bp', 'pl') ('bp', 'bp', 'pl', 'pl') ('bp', 'pl', 'pl', 'pl') ('pl', 'pl', 'pl', 'pl') "
     ]
    }
   ],
   "source": [
    "#комбинации классов \n",
    "for i in combinations_with_replacement(['tv','tn','bp','pl'], 4):\n",
    "    print(i, end=' ') "
   ]
  },
  {
   "cell_type": "code",
   "execution_count": 61,
   "metadata": {
    "id": "Qj7Il43eFnr8",
    "outputId": "1514b53a-f6a5-4e09-cc2d-d948152e93aa"
   },
   "outputs": [
    {
     "name": "stdout",
     "output_type": "stream",
     "text": [
      "<bound method MarkovChain.__repr__ of Markov chain with transition matrix \n",
      "P = \n",
      "[[0.25       0.25       0.25       0.25      ]\n",
      " [0.33333333 0.33333333 0.33333333 0.        ]\n",
      " [0.5        0.5        0.         0.        ]\n",
      " [0.5        0.         0.         0.5       ]]>\n",
      "<bound method MarkovChain.__repr__ of Markov chain with transition matrix \n",
      "P = \n",
      "[[0.5        0.         0.         0.5       ]\n",
      " [0.         0.         0.5        0.5       ]\n",
      " [0.         0.33333333 0.33333333 0.33333333]\n",
      " [0.25       0.25       0.25       0.25      ]]>\n",
      "<bound method MarkovChain.__repr__ of Markov chain with transition matrix \n",
      "P = \n",
      "[[0.  0.  0.5 0.5]\n",
      " [0.  0.  0.5 0.5]\n",
      " [0.5 0.5 0.  0. ]\n",
      " [0.5 0.5 0.  0. ]]>\n",
      "<bound method MarkovChain.__repr__ of Markov chain with transition matrix \n",
      "P = \n",
      "[[0.5 0.5 0.  0. ]\n",
      " [0.5 0.5 0.  0. ]\n",
      " [0.  0.  0.5 0.5]\n",
      " [0.  0.  0.5 0.5]]>\n"
     ]
    }
   ],
   "source": [
    "mc1 = qe.MarkovChain(tv)\n",
    "\n",
    "mc2 = qe.MarkovChain(tn)\n",
    "mc3 = qe.MarkovChain(bp)\n",
    "mc4 = qe.MarkovChain(bl)\n",
    "\n",
    "print(mc1)\n",
    "print(mc2)\n",
    "print(mc3)\n",
    "print(mc4)"
   ]
  },
  {
   "cell_type": "code",
   "execution_count": 9,
   "metadata": {
    "id": "977HbHtjFnr_",
    "outputId": "81d2ef75-0cbd-4aaa-a099-af32cd36ba76"
   },
   "outputs": [
    {
     "data": {
      "text/plain": [
       "array([2, 1, 2, 1, 2, 0, 2, 1, 1, 1])"
      ]
     },
     "metadata": {},
     "output_type": "display_data"
    }
   ],
   "source": [
    "#симулиция последовательности, длина 1000\n",
    "a2=mc1.simulate(10, random_state=None)\n",
    "display(a2)"
   ]
  },
  {
   "cell_type": "code",
   "execution_count": 10,
   "metadata": {
    "id": "pQBqoo65FnsC"
   },
   "outputs": [],
   "source": [
    "#симулиция последовательности, длина 1000\n",
    "a1=mc1.simulate(10, random_state=None)\n",
    "a2=mc1.simulate(10, random_state=None)\n",
    "a3=mc1.simulate(10, random_state=None)\n",
    "a4=mc1.simulate(10, random_state=None)\n",
    "a5=mc1.simulate(10, random_state=None)\n",
    "a6=mc1.simulate(10, random_state=None)\n",
    "a7=mc1.simulate(10, random_state=None)\n",
    "a8=mc1.simulate(10, random_state=None)\n",
    "a9=mc1.simulate(10, random_state=None)\n",
    "a10=mc1.simulate(10, random_state=None)"
   ]
  },
  {
   "cell_type": "code",
   "execution_count": 11,
   "metadata": {
    "id": "UXULruu-FnsE"
   },
   "outputs": [],
   "source": [
    "array=np.column_stack((a1, a2,a3,a4,a5,a6,a7,a8,a9,a10))"
   ]
  },
  {
   "cell_type": "code",
   "execution_count": 14,
   "metadata": {
    "id": "8-DoM__aFnsG",
    "outputId": "0aa34ee0-4e4a-4160-868f-3b5e6a9a29e7"
   },
   "outputs": [
    {
     "data": {
      "text/html": [
       "<div>\n",
       "<style scoped>\n",
       "    .dataframe tbody tr th:only-of-type {\n",
       "        vertical-align: middle;\n",
       "    }\n",
       "\n",
       "    .dataframe tbody tr th {\n",
       "        vertical-align: top;\n",
       "    }\n",
       "\n",
       "    .dataframe thead th {\n",
       "        text-align: right;\n",
       "    }\n",
       "</style>\n",
       "<table border=\"1\" class=\"dataframe\">\n",
       "  <thead>\n",
       "    <tr style=\"text-align: right;\">\n",
       "      <th></th>\n",
       "      <th>0</th>\n",
       "      <th>1</th>\n",
       "      <th>2</th>\n",
       "      <th>3</th>\n",
       "      <th>4</th>\n",
       "      <th>5</th>\n",
       "      <th>6</th>\n",
       "      <th>7</th>\n",
       "      <th>8</th>\n",
       "      <th>9</th>\n",
       "    </tr>\n",
       "  </thead>\n",
       "  <tbody>\n",
       "    <tr>\n",
       "      <th>0</th>\n",
       "      <td>1</td>\n",
       "      <td>2</td>\n",
       "      <td>1</td>\n",
       "      <td>1</td>\n",
       "      <td>0</td>\n",
       "      <td>3</td>\n",
       "      <td>3</td>\n",
       "      <td>2</td>\n",
       "      <td>0</td>\n",
       "      <td>1</td>\n",
       "    </tr>\n",
       "    <tr>\n",
       "      <th>1</th>\n",
       "      <td>0</td>\n",
       "      <td>1</td>\n",
       "      <td>0</td>\n",
       "      <td>2</td>\n",
       "      <td>0</td>\n",
       "      <td>0</td>\n",
       "      <td>3</td>\n",
       "      <td>1</td>\n",
       "      <td>2</td>\n",
       "      <td>2</td>\n",
       "    </tr>\n",
       "    <tr>\n",
       "      <th>2</th>\n",
       "      <td>0</td>\n",
       "      <td>2</td>\n",
       "      <td>2</td>\n",
       "      <td>1</td>\n",
       "      <td>2</td>\n",
       "      <td>3</td>\n",
       "      <td>0</td>\n",
       "      <td>1</td>\n",
       "      <td>0</td>\n",
       "      <td>1</td>\n",
       "    </tr>\n",
       "    <tr>\n",
       "      <th>3</th>\n",
       "      <td>2</td>\n",
       "      <td>1</td>\n",
       "      <td>1</td>\n",
       "      <td>2</td>\n",
       "      <td>0</td>\n",
       "      <td>0</td>\n",
       "      <td>3</td>\n",
       "      <td>2</td>\n",
       "      <td>0</td>\n",
       "      <td>2</td>\n",
       "    </tr>\n",
       "    <tr>\n",
       "      <th>4</th>\n",
       "      <td>1</td>\n",
       "      <td>2</td>\n",
       "      <td>0</td>\n",
       "      <td>0</td>\n",
       "      <td>0</td>\n",
       "      <td>0</td>\n",
       "      <td>0</td>\n",
       "      <td>0</td>\n",
       "      <td>2</td>\n",
       "      <td>0</td>\n",
       "    </tr>\n",
       "    <tr>\n",
       "      <th>5</th>\n",
       "      <td>2</td>\n",
       "      <td>0</td>\n",
       "      <td>1</td>\n",
       "      <td>3</td>\n",
       "      <td>2</td>\n",
       "      <td>3</td>\n",
       "      <td>2</td>\n",
       "      <td>2</td>\n",
       "      <td>0</td>\n",
       "      <td>2</td>\n",
       "    </tr>\n",
       "    <tr>\n",
       "      <th>6</th>\n",
       "      <td>1</td>\n",
       "      <td>3</td>\n",
       "      <td>2</td>\n",
       "      <td>3</td>\n",
       "      <td>1</td>\n",
       "      <td>0</td>\n",
       "      <td>0</td>\n",
       "      <td>1</td>\n",
       "      <td>1</td>\n",
       "      <td>0</td>\n",
       "    </tr>\n",
       "    <tr>\n",
       "      <th>7</th>\n",
       "      <td>2</td>\n",
       "      <td>0</td>\n",
       "      <td>0</td>\n",
       "      <td>3</td>\n",
       "      <td>0</td>\n",
       "      <td>3</td>\n",
       "      <td>2</td>\n",
       "      <td>2</td>\n",
       "      <td>1</td>\n",
       "      <td>2</td>\n",
       "    </tr>\n",
       "    <tr>\n",
       "      <th>8</th>\n",
       "      <td>0</td>\n",
       "      <td>2</td>\n",
       "      <td>0</td>\n",
       "      <td>3</td>\n",
       "      <td>1</td>\n",
       "      <td>0</td>\n",
       "      <td>0</td>\n",
       "      <td>1</td>\n",
       "      <td>2</td>\n",
       "      <td>1</td>\n",
       "    </tr>\n",
       "    <tr>\n",
       "      <th>9</th>\n",
       "      <td>3</td>\n",
       "      <td>0</td>\n",
       "      <td>1</td>\n",
       "      <td>3</td>\n",
       "      <td>2</td>\n",
       "      <td>0</td>\n",
       "      <td>3</td>\n",
       "      <td>0</td>\n",
       "      <td>0</td>\n",
       "      <td>1</td>\n",
       "    </tr>\n",
       "  </tbody>\n",
       "</table>\n",
       "</div>"
      ],
      "text/plain": [
       "   0  1  2  3  4  5  6  7  8  9\n",
       "0  1  2  1  1  0  3  3  2  0  1\n",
       "1  0  1  0  2  0  0  3  1  2  2\n",
       "2  0  2  2  1  2  3  0  1  0  1\n",
       "3  2  1  1  2  0  0  3  2  0  2\n",
       "4  1  2  0  0  0  0  0  0  2  0\n",
       "5  2  0  1  3  2  3  2  2  0  2\n",
       "6  1  3  2  3  1  0  0  1  1  0\n",
       "7  2  0  0  3  0  3  2  2  1  2\n",
       "8  0  2  0  3  1  0  0  1  2  1\n",
       "9  3  0  1  3  2  0  3  0  0  1"
      ]
     },
     "metadata": {},
     "output_type": "display_data"
    }
   ],
   "source": [
    "df = pd.DataFrame(array)\n",
    "\n",
    "df[0]=[1,0,0,2,1,2,1,2,0,3]\n",
    "display(df.head(20))"
   ]
  },
  {
   "cell_type": "markdown",
   "metadata": {
    "id": "XC0KYq5HFnsJ"
   },
   "source": [
    "Пусть ('tv', 'tn', 'tn', 'bp')"
   ]
  },
  {
   "cell_type": "code",
   "execution_count": 24,
   "metadata": {
    "id": "jMeTupRPFnsJ",
    "outputId": "bb72efea-b5b8-44c6-c70c-a03bcb69f939"
   },
   "outputs": [
    {
     "data": {
      "text/plain": [
       "array([[0., 0., 0., 0.],\n",
       "       [0., 0., 0., 0.],\n",
       "       [0., 0., 0., 0.],\n",
       "       [0., 0., 0., 0.],\n",
       "       [0., 0., 0., 0.],\n",
       "       [0., 0., 0., 0.],\n",
       "       [0., 0., 0., 0.],\n",
       "       [0., 0., 0., 0.],\n",
       "       [0., 0., 0., 0.],\n",
       "       [0., 0., 0., 0.]])"
      ]
     },
     "execution_count": 24,
     "metadata": {},
     "output_type": "execute_result"
    }
   ],
   "source": [
    "#Расчет вектора альфа методом Рабинера\n",
    "alfa= np.zeros((10, 4))\n",
    "\n",
    "\n",
    "alfa\n"
   ]
  },
  {
   "cell_type": "code",
   "execution_count": 16,
   "metadata": {
    "id": "OwmefkUOFnsL",
    "outputId": "62ebb769-8e01-4d0b-c4e7-9112877deca4"
   },
   "outputs": [
    {
     "data": {
      "text/plain": [
       "array([[0., 0., 0., 0.],\n",
       "       [0., 0., 0., 0.],\n",
       "       [0., 0., 0., 0.],\n",
       "       [0., 0., 0., 0.],\n",
       "       [0., 0., 0., 0.],\n",
       "       [0., 0., 0., 0.],\n",
       "       [0., 0., 0., 0.],\n",
       "       [0., 0., 0., 0.],\n",
       "       [0., 0., 0., 0.],\n",
       "       [0., 0., 0., 0.]])"
      ]
     },
     "execution_count": 16,
     "metadata": {},
     "output_type": "execute_result"
    }
   ],
   "source": [
    "\n",
    "beta=np.array([[0.0,0.0,0.0,0.0],\n",
    "            [0,0,0,0],\n",
    "            [0,0,0,0],\n",
    "            [0,0,0,0],\n",
    "            [0,0,0,0],\n",
    "            [0,0,0,0],\n",
    "            [0,0,0,0],\n",
    "            [0,0,0,0],\n",
    "            [0,0,0,0],\n",
    "            [0,0,0,0]])\n",
    "\n",
    "beta"
   ]
  },
  {
   "cell_type": "code",
   "execution_count": 17,
   "metadata": {
    "id": "0FgAT_8KFnsO",
    "outputId": "373ba871-93b9-4192-c2b0-832876f39635"
   },
   "outputs": [
    {
     "data": {
      "text/plain": [
       "array([0.25, 0.25, 0.25, 0.25])"
      ]
     },
     "execution_count": 17,
     "metadata": {},
     "output_type": "execute_result"
    }
   ],
   "source": [
    "pi=np.array([1/4,    1/4,  1/4,    1/4])\n",
    "pi"
   ]
  },
  {
   "cell_type": "code",
   "execution_count": 18,
   "metadata": {
    "id": "0ERN_aW7FnsS",
    "outputId": "1271c57f-5a9a-46d7-bf16-6d41f45ad5cf"
   },
   "outputs": [
    {
     "data": {
      "text/plain": [
       "1    0\n",
       "2    0\n",
       "3    2\n",
       "4    1\n",
       "5    2\n",
       "6    1\n",
       "7    2\n",
       "8    0\n",
       "9    3\n",
       "Name: 0, dtype: int64"
      ]
     },
     "execution_count": 18,
     "metadata": {},
     "output_type": "execute_result"
    }
   ],
   "source": [
    " df[0].iloc[1:]\n"
   ]
  },
  {
   "cell_type": "code",
   "execution_count": 25,
   "metadata": {
    "id": "cS_mZep0FnsU",
    "outputId": "6cc6d1f9-5c07-4788-ea56-5ccbf992d810"
   },
   "outputs": [
    {
     "name": "stdout",
     "output_type": "stream",
     "text": [
      "1 K \n",
      "\n",
      "0.25 Pi \n",
      "\n",
      "[[0.   0.25 0.   0.  ]\n",
      " [0.   0.   0.   0.  ]\n",
      " [0.   0.   0.   0.  ]\n",
      " [0.   0.   0.   0.  ]\n",
      " [0.   0.   0.   0.  ]\n",
      " [0.   0.   0.   0.  ]\n",
      " [0.   0.   0.   0.  ]\n",
      " [0.   0.   0.   0.  ]\n",
      " [0.   0.   0.   0.  ]\n",
      " [0.   0.   0.   0.  ]] alfa\n"
     ]
    }
   ],
   "source": [
    "k=df.loc[0][0]    \n",
    "print(k,\"K\", '\\n')\n",
    "print(pi[k], \"Pi\", '\\n')\n",
    "\n",
    "alfa[0][1]=pi[k]\n",
    "\n",
    "print(alfa, 'alfa')"
   ]
  },
  {
   "cell_type": "code",
   "execution_count": 26,
   "metadata": {
    "id": "DdRSQ90cFnsW",
    "outputId": "afe759a6-9bde-4281-ca96-240184a78a09"
   },
   "outputs": [
    {
     "data": {
      "text/plain": [
       "array([[0.25      , 0.33333333, 0.5       , 0.5       ],\n",
       "       [0.25      , 0.33333333, 0.5       , 0.        ],\n",
       "       [0.25      , 0.33333333, 0.        , 0.        ],\n",
       "       [0.25      , 0.        , 0.        , 0.5       ]])"
      ]
     },
     "execution_count": 26,
     "metadata": {},
     "output_type": "execute_result"
    }
   ],
   "source": [
    "tvt"
   ]
  },
  {
   "cell_type": "code",
   "execution_count": 27,
   "metadata": {
    "id": "mMFcxPBLFnsY",
    "outputId": "3f96d8d4-b800-4a34-887c-ce77b5c4c07b"
   },
   "outputs": [
    {
     "data": {
      "text/plain": [
       "array([0.  , 0.25, 0.  , 0.  ])"
      ]
     },
     "execution_count": 27,
     "metadata": {},
     "output_type": "execute_result"
    }
   ],
   "source": [
    "alfa[0]"
   ]
  },
  {
   "cell_type": "code",
   "execution_count": 29,
   "metadata": {},
   "outputs": [
    {
     "name": "stdout",
     "output_type": "stream",
     "text": [
      "1\n",
      "0\n",
      "0\n",
      "2\n",
      "1\n",
      "2\n",
      "1\n",
      "2\n",
      "0\n",
      "3\n"
     ]
    }
   ],
   "source": [
    "ii=[0,1,2,3,4,5,6,7,8,9]\n",
    "\n",
    "for d in ii:\n",
    "        k=df.loc[d][0]  \n",
    "        print(k)\n",
    "    "
   ]
  },
  {
   "cell_type": "code",
   "execution_count": 44,
   "metadata": {
    "id": "Gq0bEiVzFnse",
    "outputId": "50d8db53-a3a6-47f9-d23f-5f228caf9fb5"
   },
   "outputs": [
    {
     "name": "stdout",
     "output_type": "stream",
     "text": [
      "[[0.    0.25  0.    0.   ]\n",
      " [0.083 0.    0.    0.   ]\n",
      " [0.021 0.    0.    0.   ]\n",
      " [0.    0.    0.005 0.   ]\n",
      " [0.    0.003 0.    0.   ]\n",
      " [0.    0.    0.001 0.   ]\n",
      " [0.    0.001 0.    0.   ]\n",
      " [0.    0.    0.    0.   ]\n",
      " [0.    0.    0.    0.   ]\n",
      " [0.    0.    0.    0.   ]]\n"
     ]
    }
   ],
   "source": [
    "def vecalfa(n):\n",
    "    alfa= np.zeros((10, 4))\n",
    "    \n",
    "    k=df.loc[0][n]    \n",
    "#     print(k, 'K ', n)\n",
    "    \n",
    "    alfa[0,k]=pi[k]\n",
    "#     print(alfa[0])\n",
    "   \n",
    "    j=1\n",
    "    for i in df[n].iloc[1:]:    \n",
    "\n",
    "        alfa[j,i]=\"%.3f\" % np.dot(alfa[j-1], tvt[i])\n",
    "        j=j+1\n",
    "\n",
    "        \n",
    "    return alfa\n",
    "          \n",
    "print(vecalfa(0))\n"
   ]
  },
  {
   "cell_type": "code",
   "execution_count": 45,
   "metadata": {
    "id": "QB0J2WIzFnsh",
    "outputId": "86981c81-77a5-44e0-e774-f6ab6ea7ca13"
   },
   "outputs": [],
   "source": [
    "# ii=[0,1,2,3,4,5,6,7,8,9]\n",
    "\n",
    "# for d in ii:\n",
    "#         vecalfa(d)\n",
    "#         print(alfa) \n",
    "        "
   ]
  },
  {
   "cell_type": "code",
   "execution_count": 47,
   "metadata": {
    "id": "ZrF2MQ6bFnsj",
    "outputId": "816c0520-b476-47ed-f62c-8336c3e6b78b"
   },
   "outputs": [
    {
     "data": {
      "text/html": [
       "<div>\n",
       "<style scoped>\n",
       "    .dataframe tbody tr th:only-of-type {\n",
       "        vertical-align: middle;\n",
       "    }\n",
       "\n",
       "    .dataframe tbody tr th {\n",
       "        vertical-align: top;\n",
       "    }\n",
       "\n",
       "    .dataframe thead th {\n",
       "        text-align: right;\n",
       "    }\n",
       "</style>\n",
       "<table border=\"1\" class=\"dataframe\">\n",
       "  <thead>\n",
       "    <tr style=\"text-align: right;\">\n",
       "      <th></th>\n",
       "      <th>0</th>\n",
       "      <th>1</th>\n",
       "      <th>2</th>\n",
       "      <th>3</th>\n",
       "    </tr>\n",
       "  </thead>\n",
       "  <tbody>\n",
       "    <tr>\n",
       "      <th>0</th>\n",
       "      <td>0.000</td>\n",
       "      <td>0.250</td>\n",
       "      <td>0.000</td>\n",
       "      <td>0.0</td>\n",
       "    </tr>\n",
       "    <tr>\n",
       "      <th>1</th>\n",
       "      <td>0.083</td>\n",
       "      <td>0.000</td>\n",
       "      <td>0.000</td>\n",
       "      <td>0.0</td>\n",
       "    </tr>\n",
       "    <tr>\n",
       "      <th>2</th>\n",
       "      <td>0.021</td>\n",
       "      <td>0.000</td>\n",
       "      <td>0.000</td>\n",
       "      <td>0.0</td>\n",
       "    </tr>\n",
       "    <tr>\n",
       "      <th>3</th>\n",
       "      <td>0.000</td>\n",
       "      <td>0.000</td>\n",
       "      <td>0.005</td>\n",
       "      <td>0.0</td>\n",
       "    </tr>\n",
       "    <tr>\n",
       "      <th>4</th>\n",
       "      <td>0.000</td>\n",
       "      <td>0.003</td>\n",
       "      <td>0.000</td>\n",
       "      <td>0.0</td>\n",
       "    </tr>\n",
       "    <tr>\n",
       "      <th>5</th>\n",
       "      <td>0.000</td>\n",
       "      <td>0.000</td>\n",
       "      <td>0.001</td>\n",
       "      <td>0.0</td>\n",
       "    </tr>\n",
       "    <tr>\n",
       "      <th>6</th>\n",
       "      <td>0.000</td>\n",
       "      <td>0.001</td>\n",
       "      <td>0.000</td>\n",
       "      <td>0.0</td>\n",
       "    </tr>\n",
       "    <tr>\n",
       "      <th>7</th>\n",
       "      <td>0.000</td>\n",
       "      <td>0.000</td>\n",
       "      <td>0.000</td>\n",
       "      <td>0.0</td>\n",
       "    </tr>\n",
       "    <tr>\n",
       "      <th>8</th>\n",
       "      <td>0.000</td>\n",
       "      <td>0.000</td>\n",
       "      <td>0.000</td>\n",
       "      <td>0.0</td>\n",
       "    </tr>\n",
       "    <tr>\n",
       "      <th>9</th>\n",
       "      <td>0.000</td>\n",
       "      <td>0.000</td>\n",
       "      <td>0.000</td>\n",
       "      <td>0.0</td>\n",
       "    </tr>\n",
       "  </tbody>\n",
       "</table>\n",
       "</div>"
      ],
      "text/plain": [
       "       0      1      2    3\n",
       "0  0.000  0.250  0.000  0.0\n",
       "1  0.083  0.000  0.000  0.0\n",
       "2  0.021  0.000  0.000  0.0\n",
       "3  0.000  0.000  0.005  0.0\n",
       "4  0.000  0.003  0.000  0.0\n",
       "5  0.000  0.000  0.001  0.0\n",
       "6  0.000  0.001  0.000  0.0\n",
       "7  0.000  0.000  0.000  0.0\n",
       "8  0.000  0.000  0.000  0.0\n",
       "9  0.000  0.000  0.000  0.0"
      ]
     },
     "execution_count": 47,
     "metadata": {},
     "output_type": "execute_result"
    }
   ],
   "source": [
    "alfadf = pd.DataFrame(vecalfa(0))\n",
    "alfadf\n"
   ]
  },
  {
   "cell_type": "code",
   "execution_count": 52,
   "metadata": {
    "id": "r47pgZC1Fns9"
   },
   "outputs": [],
   "source": [
    "# ii=[0,1,2,3,4,5,6,7,8,9]\n",
    "# j=0\n",
    "# for d in ii:\n",
    "   \n",
    "#     for i in df[d].iloc[1:]:    \n",
    "\n",
    "#         alfa[j,i]=np.dot(alfa[j], tvt[i])\n",
    "#         j=j+1\n",
    "#     d=d+1   \n",
    "# alfa   \n"
   ]
  },
  {
   "cell_type": "code",
   "execution_count": 59,
   "metadata": {
    "id": "rEvKU5buFns_"
   },
   "outputs": [],
   "source": [
    "import numpy as np\n",
    " \n",
    "class MarkovChain(object):\n",
    "    def __init__(self, transition_prob):\n",
    "      \n",
    "        self.transition_prob = transition_prob\n",
    "        self.states = list(transition_prob.keys())\n",
    " \n",
    "    def next_state(self, current_state):\n",
    "        \n",
    "        next_ = np.random.choice(self.states, p = [\n",
    "              self.transition_prob[current_state][next_state] \n",
    "               for next_state in self.states]\n",
    "        )\n",
    "        return next_\n",
    " \n",
    "    def generate_states(self, current_state, no=10):\n",
    "      \n",
    "        future_states = []\n",
    "        for i in range(no):\n",
    "            next_state = self.next_state(current_state)\n",
    "            future_states.append(next_state)\n",
    "            current_state = next_state\n",
    "\n",
    "        return ''.join(future_states)"
   ]
  },
  {
   "cell_type": "code",
   "execution_count": 60,
   "metadata": {
    "id": "Qsvk9eL8FntC"
   },
   "outputs": [],
   "source": [
    "def MarkovMatrix(n = 26):\n",
    "\n",
    "    np.random.seed(0) # for replicability\n",
    "    symbols = [chr(i+65) for i in range(n)] # list of available symbols\n",
    "\n",
    "    markov_matrix = {}\n",
    "    for i, s in enumerate(symbols):\n",
    "        dim = len(symbols)\n",
    "\n",
    "        probs = np.random.random(dim*3) \n",
    "        probs.sort()\n",
    "        probs = np.append(probs[dim%2::2], probs[::-2])\n",
    "        offset = -int(dim*1.5)\n",
    "        probs = np.roll(probs, offset+i)[:dim] \n",
    "        probs /= probs.sum()\n",
    "    \n",
    "        markov_matrix[s] = {s: p for s, p in zip(symbols, probs)}\n",
    "        print(markov_matrix[s])\n",
    "\n",
    "    print(markov_matrix)\n",
    "    \n",
    "    return markov_matrix"
   ]
  },
  {
   "cell_type": "code",
   "execution_count": null,
   "metadata": {
    "id": "4kIkSpDgFntE"
   },
   "outputs": [],
   "source": []
  },
  {
   "cell_type": "code",
   "execution_count": null,
   "metadata": {
    "id": "7rKD3cDeFntG"
   },
   "outputs": [],
   "source": []
  }
 ],
 "metadata": {
  "colab": {
   "name": "Untitled70.ipynb",
   "provenance": []
  },
  "kernelspec": {
   "display_name": "Python 3",
   "language": "python",
   "name": "python3"
  },
  "language_info": {
   "codemirror_mode": {
    "name": "ipython",
    "version": 3
   },
   "file_extension": ".py",
   "mimetype": "text/x-python",
   "name": "python",
   "nbconvert_exporter": "python",
   "pygments_lexer": "ipython3",
   "version": "3.7.3"
  }
 },
 "nbformat": 4,
 "nbformat_minor": 4
}
