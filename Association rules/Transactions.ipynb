{
 "cells": [
  {
   "cell_type": "code",
   "execution_count": 1,
   "metadata": {},
   "outputs": [],
   "source": [
    "# подгрузим модули\n",
    "import numpy as np\n",
    "import matplotlib.pyplot as plt\n",
    "import pandas as pd\n"
   ]
  },
  {
   "cell_type": "code",
   "execution_count": 3,
   "metadata": {},
   "outputs": [],
   "source": [
    "# загрузим данные\n",
    "dataset = pd.read_csv('Transaction.csv', header = None)"
   ]
  },
  {
   "cell_type": "code",
   "execution_count": 19,
   "metadata": {},
   "outputs": [],
   "source": [
    "del dataset[2]"
   ]
  },
  {
   "cell_type": "code",
   "execution_count": 27,
   "metadata": {},
   "outputs": [
    {
     "data": {
      "text/html": [
       "<div>\n",
       "<style scoped>\n",
       "    .dataframe tbody tr th:only-of-type {\n",
       "        vertical-align: middle;\n",
       "    }\n",
       "\n",
       "    .dataframe tbody tr th {\n",
       "        vertical-align: top;\n",
       "    }\n",
       "\n",
       "    .dataframe thead th {\n",
       "        text-align: right;\n",
       "    }\n",
       "</style>\n",
       "<table border=\"1\" class=\"dataframe\">\n",
       "  <thead>\n",
       "    <tr style=\"text-align: right;\">\n",
       "      <th></th>\n",
       "      <th>0</th>\n",
       "      <th>1</th>\n",
       "      <th>3</th>\n",
       "    </tr>\n",
       "  </thead>\n",
       "  <tbody>\n",
       "    <tr>\n",
       "      <th>0</th>\n",
       "      <td>Quantity</td>\n",
       "      <td>Transaction</td>\n",
       "      <td>Product</td>\n",
       "    </tr>\n",
       "    <tr>\n",
       "      <th>1</th>\n",
       "      <td>1</td>\n",
       "      <td>12359</td>\n",
       "      <td>Candy Bar</td>\n",
       "    </tr>\n",
       "    <tr>\n",
       "      <th>2</th>\n",
       "      <td>2</td>\n",
       "      <td>12362</td>\n",
       "      <td>Pain Reliever</td>\n",
       "    </tr>\n",
       "    <tr>\n",
       "      <th>3</th>\n",
       "      <td>2</td>\n",
       "      <td>12362</td>\n",
       "      <td>Pain Reliever</td>\n",
       "    </tr>\n",
       "    <tr>\n",
       "      <th>4</th>\n",
       "      <td>1</td>\n",
       "      <td>12365</td>\n",
       "      <td>Toothpaste</td>\n",
       "    </tr>\n",
       "    <tr>\n",
       "      <th>5</th>\n",
       "      <td>2</td>\n",
       "      <td>12371</td>\n",
       "      <td>Bow</td>\n",
       "    </tr>\n",
       "    <tr>\n",
       "      <th>6</th>\n",
       "      <td>1</td>\n",
       "      <td>12380</td>\n",
       "      <td>Greeting Cards</td>\n",
       "    </tr>\n",
       "    <tr>\n",
       "      <th>7</th>\n",
       "      <td>3</td>\n",
       "      <td>12383</td>\n",
       "      <td>Pain Reliever</td>\n",
       "    </tr>\n",
       "    <tr>\n",
       "      <th>8</th>\n",
       "      <td>3</td>\n",
       "      <td>12383</td>\n",
       "      <td>Pain Reliever</td>\n",
       "    </tr>\n",
       "    <tr>\n",
       "      <th>9</th>\n",
       "      <td>1</td>\n",
       "      <td>12386</td>\n",
       "      <td>Pain Reliever</td>\n",
       "    </tr>\n",
       "  </tbody>\n",
       "</table>\n",
       "</div>"
      ],
      "text/plain": [
       "          0            1               3\n",
       "0  Quantity  Transaction         Product\n",
       "1         1        12359       Candy Bar\n",
       "2         2        12362   Pain Reliever\n",
       "3         2        12362   Pain Reliever\n",
       "4         1        12365      Toothpaste\n",
       "5         2        12371             Bow\n",
       "6         1        12380  Greeting Cards\n",
       "7         3        12383   Pain Reliever\n",
       "8         3        12383   Pain Reliever\n",
       "9         1        12386   Pain Reliever"
      ]
     },
     "execution_count": 27,
     "metadata": {},
     "output_type": "execute_result"
    }
   ],
   "source": [
    "dataset.head(10)"
   ]
  },
  {
   "cell_type": "code",
   "execution_count": 20,
   "metadata": {},
   "outputs": [
    {
     "data": {
      "text/plain": [
       "(459259, 3)"
      ]
     },
     "execution_count": 20,
     "metadata": {},
     "output_type": "execute_result"
    }
   ],
   "source": [
    "dataset.shape"
   ]
  },
  {
   "cell_type": "code",
   "execution_count": 32,
   "metadata": {},
   "outputs": [
    {
     "data": {
      "text/plain": [
       "'Candy Bar'"
      ]
     },
     "execution_count": 32,
     "metadata": {},
     "output_type": "execute_result"
    }
   ],
   "source": [
    "dataset[3][12380]"
   ]
  },
  {
   "cell_type": "code",
   "execution_count": 61,
   "metadata": {},
   "outputs": [],
   "source": [
    "products_id_list = []\n",
    "products_list = []\n",
    "#459258\n",
    "for i in range(0,459258):\n",
    "    if dataset[1][i] == dataset[1][i+1]:\n",
    "        products_id_list.append(dataset[3][i])\n",
    "        continue\n",
    "    else:\n",
    "        products_id_list.append(dataset[3][i])\n",
    "        products_list.append(products_id_list)\n",
    "        products_id_list = []\n",
    "\n",
    "# print(products_list)"
   ]
  },
  {
   "cell_type": "code",
   "execution_count": 62,
   "metadata": {},
   "outputs": [],
   "source": [
    "import apyori\n",
    "from apyori import apriori"
   ]
  },
  {
   "cell_type": "code",
   "execution_count": 63,
   "metadata": {},
   "outputs": [
    {
     "name": "stdout",
     "output_type": "stream",
     "text": [
      "Wall time: 946 ms\n"
     ]
    }
   ],
   "source": [
    "%%time\n",
    "# и обучимся правилам. Обратите внимание, что пороговые значения мы вибираем сами в зависимости от того, /\n",
    "# насколкьо \"сильные\" правила мы хотим получить\n",
    "# min_support -- минимальный support для правил (dtype = float).\n",
    "# min_confidence -- минимальное значение confidence для правил (dtype = float)\n",
    "# min_lift -- минимальный lift (dtype = float)\n",
    "# max_length -- максимальная длина itemset (вспоминаем про k-itemset)  (dtype = integer)\n",
    "\n",
    "result = list(apriori(products_list, min_support = 0.003, min_confidence = 0.3, min_lift = 4,  min_length = 2))\n",
    "\n",
    "# print(result)"
   ]
  },
  {
   "cell_type": "code",
   "execution_count": 64,
   "metadata": {},
   "outputs": [
    {
     "data": {
      "text/html": [
       "<table border=\"1\" class=\"dataframe\">\n",
       "  <thead>\n",
       "    <tr style=\"text-align: right;\">\n",
       "      <th></th>\n",
       "      <th>items</th>\n",
       "      <th>ordered_statistics</th>\n",
       "      <th>support</th>\n",
       "    </tr>\n",
       "  </thead>\n",
       "  <tbody>\n",
       "    <tr>\n",
       "      <th>0</th>\n",
       "      <td>[Prescription Med, Wrapping Paper]</td>\n",
       "      <td>[{'items_base': ['Prescription Med'], 'items_add': ['Wrapping Paper'], 'confidence': 0.41882109617373314, 'lift': 8.213788903191471}]</td>\n",
       "      <td>0.006075</td>\n",
       "    </tr>\n",
       "    <tr>\n",
       "      <th>1</th>\n",
       "      <td>[Bow, Magazine, Toothbrush]</td>\n",
       "      <td>[{'items_base': ['Bow', 'Magazine'], 'items_add': ['Toothbrush'], 'confidence': 0.49896337249481687, 'lift': 7.408513325832471}]</td>\n",
       "      <td>0.003610</td>\n",
       "    </tr>\n",
       "    <tr>\n",
       "      <th>2</th>\n",
       "      <td>[Magazine, Perfume, Toothbrush]</td>\n",
       "      <td>[{'items_base': ['Magazine', 'Perfume'], 'items_add': ['Toothbrush'], 'confidence': 0.3775450843513671, 'lift': 5.60571765926306}, {'items_base': ['Magazine', 'Toothbrush'], 'items_add': ['Perfume'], 'confidence': 0.49259962049335865, 'lift': 5.475762788943515}]</td>\n",
       "      <td>0.006490</td>\n",
       "    </tr>\n",
       "  </tbody>\n",
       "</table>"
      ],
      "text/plain": [
       "<IPython.core.display.HTML object>"
      ]
     },
     "metadata": {},
     "output_type": "display_data"
    }
   ],
   "source": [
    "import shutil, os \n",
    "import json #преобразовывать будем в json, используя встроенные в модуль методы\n",
    "try:\n",
    "    from StringIO import StringIO\n",
    "except ImportError:\n",
    "    from io import StringIO\n",
    "    \n",
    "    output = []\n",
    "for RelationRecord in result:\n",
    "    o = StringIO()\n",
    "    apyori.dump_as_json(RelationRecord, o)\n",
    "    output.append(json.loads(o.getvalue()))\n",
    "data_df = pd.DataFrame(output)\n",
    "\n",
    "# и взгялнем на итоги\n",
    "pd.set_option('display.max_colwidth', -1)\n",
    "\n",
    "from IPython.display import display, HTML\n",
    "\n",
    "display(HTML(data_df.to_html()))\n",
    "\n",
    "#support - частотность itemsseta во всех транзакциях\n",
    "#confidence - достоверность, как часто оно срабатыает для датасета\n",
    "#lift - насколько зависмы товары\n"
   ]
  },
  {
   "cell_type": "code",
   "execution_count": 55,
   "metadata": {},
   "outputs": [
    {
     "data": {
      "text/plain": [
       "array(['Product', 'Candy Bar', 'Pain Reliever', 'Toothpaste', 'Bow',\n",
       "       'Greeting Cards', 'Shampoo', 'Magazine', 'Pencils', 'Pens',\n",
       "       'Deodorant', 'Photo Processing', 'Soap', 'Perfume', 'Toothbrush',\n",
       "       'Wrapping Paper', 'Markers', 'Prescription Med'], dtype=object)"
      ]
     },
     "execution_count": 55,
     "metadata": {},
     "output_type": "execute_result"
    }
   ],
   "source": [
    "dataset[3].unique()"
   ]
  },
  {
   "cell_type": "code",
   "execution_count": null,
   "metadata": {},
   "outputs": [],
   "source": []
  },
  {
   "cell_type": "code",
   "execution_count": 69,
   "metadata": {},
   "outputs": [
    {
     "name": "stdout",
     "output_type": "stream",
     "text": [
      "Requirement already satisfied: pyfpgrowth in c:\\programdata\\anaconda3\\lib\\site-packages (1.0)\n",
      "Note: you may need to restart the kernel to use updated packages.\n"
     ]
    }
   ],
   "source": [
    "pip install pyfpgrowth"
   ]
  },
  {
   "cell_type": "code",
   "execution_count": 70,
   "metadata": {},
   "outputs": [],
   "source": [
    "import pyfpgrowth\n",
    "#Сгенериуем паттерны\n",
    "patterns = pyfpgrowth.find_frequent_patterns(products_list, 2)"
   ]
  },
  {
   "cell_type": "code",
   "execution_count": null,
   "metadata": {},
   "outputs": [],
   "source": [
    "#Покажем\n",
    "rules;"
   ]
  },
  {
   "cell_type": "code",
   "execution_count": 76,
   "metadata": {},
   "outputs": [],
   "source": [
    "#Сгенериуем паттерны\n",
    "import pandas as pd\n",
    "from mlxtend.preprocessing import TransactionEncoder\n",
    "\n",
    "te = TransactionEncoder()\n",
    "te_ary = te.fit(products_list).transform(products_list)\n",
    "df = pd.DataFrame(te_ary, columns=te.columns_)\n",
    "# df"
   ]
  },
  {
   "cell_type": "code",
   "execution_count": 78,
   "metadata": {},
   "outputs": [
    {
     "name": "stdout",
     "output_type": "stream",
     "text": [
      "Wall time: 1.23 s\n"
     ]
    },
    {
     "data": {
      "text/html": [
       "<div>\n",
       "<style scoped>\n",
       "    .dataframe tbody tr th:only-of-type {\n",
       "        vertical-align: middle;\n",
       "    }\n",
       "\n",
       "    .dataframe tbody tr th {\n",
       "        vertical-align: top;\n",
       "    }\n",
       "\n",
       "    .dataframe thead th {\n",
       "        text-align: right;\n",
       "    }\n",
       "</style>\n",
       "<table border=\"1\" class=\"dataframe\">\n",
       "  <thead>\n",
       "    <tr style=\"text-align: right;\">\n",
       "      <th></th>\n",
       "      <th>support</th>\n",
       "      <th>itemsets</th>\n",
       "    </tr>\n",
       "  </thead>\n",
       "  <tbody>\n",
       "    <tr>\n",
       "      <th>0</th>\n",
       "      <td>0.171005</td>\n",
       "      <td>(Candy Bar)</td>\n",
       "    </tr>\n",
       "    <tr>\n",
       "      <th>1</th>\n",
       "      <td>0.160425</td>\n",
       "      <td>(Toothpaste)</td>\n",
       "    </tr>\n",
       "    <tr>\n",
       "      <th>2</th>\n",
       "      <td>0.054645</td>\n",
       "      <td>(Bow)</td>\n",
       "    </tr>\n",
       "    <tr>\n",
       "      <th>3</th>\n",
       "      <td>0.146885</td>\n",
       "      <td>(Greeting Cards)</td>\n",
       "    </tr>\n",
       "    <tr>\n",
       "      <th>4</th>\n",
       "      <td>0.241305</td>\n",
       "      <td>(Magazine)</td>\n",
       "    </tr>\n",
       "    <tr>\n",
       "      <th>5</th>\n",
       "      <td>0.033800</td>\n",
       "      <td>(Shampoo)</td>\n",
       "    </tr>\n",
       "    <tr>\n",
       "      <th>6</th>\n",
       "      <td>0.134925</td>\n",
       "      <td>(Pencils)</td>\n",
       "    </tr>\n",
       "    <tr>\n",
       "      <th>7</th>\n",
       "      <td>0.143575</td>\n",
       "      <td>(Pens)</td>\n",
       "    </tr>\n",
       "    <tr>\n",
       "      <th>8</th>\n",
       "      <td>0.058475</td>\n",
       "      <td>(Photo Processing)</td>\n",
       "    </tr>\n",
       "    <tr>\n",
       "      <th>9</th>\n",
       "      <td>0.043025</td>\n",
       "      <td>(Soap)</td>\n",
       "    </tr>\n",
       "    <tr>\n",
       "      <th>10</th>\n",
       "      <td>0.089960</td>\n",
       "      <td>(Perfume)</td>\n",
       "    </tr>\n",
       "    <tr>\n",
       "      <th>11</th>\n",
       "      <td>0.067350</td>\n",
       "      <td>(Toothbrush)</td>\n",
       "    </tr>\n",
       "    <tr>\n",
       "      <th>12</th>\n",
       "      <td>0.050990</td>\n",
       "      <td>(Wrapping Paper)</td>\n",
       "    </tr>\n",
       "    <tr>\n",
       "      <th>13</th>\n",
       "      <td>0.040535</td>\n",
       "      <td>(Candy Bar, Magazine)</td>\n",
       "    </tr>\n",
       "    <tr>\n",
       "      <th>14</th>\n",
       "      <td>0.031665</td>\n",
       "      <td>(Toothpaste, Magazine)</td>\n",
       "    </tr>\n",
       "    <tr>\n",
       "      <th>15</th>\n",
       "      <td>0.039780</td>\n",
       "      <td>(Toothpaste, Candy Bar)</td>\n",
       "    </tr>\n",
       "    <tr>\n",
       "      <th>16</th>\n",
       "      <td>0.043660</td>\n",
       "      <td>(Greeting Cards, Candy Bar)</td>\n",
       "    </tr>\n",
       "    <tr>\n",
       "      <th>17</th>\n",
       "      <td>0.036335</td>\n",
       "      <td>(Greeting Cards, Magazine)</td>\n",
       "    </tr>\n",
       "    <tr>\n",
       "      <th>18</th>\n",
       "      <td>0.032080</td>\n",
       "      <td>(Toothpaste, Greeting Cards)</td>\n",
       "    </tr>\n",
       "    <tr>\n",
       "      <th>19</th>\n",
       "      <td>0.033015</td>\n",
       "      <td>(Candy Bar, Pencils)</td>\n",
       "    </tr>\n",
       "    <tr>\n",
       "      <th>20</th>\n",
       "      <td>0.031630</td>\n",
       "      <td>(Pencils, Magazine)</td>\n",
       "    </tr>\n",
       "  </tbody>\n",
       "</table>\n",
       "</div>"
      ],
      "text/plain": [
       "     support                      itemsets\n",
       "0   0.171005  (Candy Bar)                 \n",
       "1   0.160425  (Toothpaste)                \n",
       "2   0.054645  (Bow)                       \n",
       "3   0.146885  (Greeting Cards)            \n",
       "4   0.241305  (Magazine)                  \n",
       "5   0.033800  (Shampoo)                   \n",
       "6   0.134925  (Pencils)                   \n",
       "7   0.143575  (Pens)                      \n",
       "8   0.058475  (Photo Processing)          \n",
       "9   0.043025  (Soap)                      \n",
       "10  0.089960  (Perfume)                   \n",
       "11  0.067350  (Toothbrush)                \n",
       "12  0.050990  (Wrapping Paper)            \n",
       "13  0.040535  (Candy Bar, Magazine)       \n",
       "14  0.031665  (Toothpaste, Magazine)      \n",
       "15  0.039780  (Toothpaste, Candy Bar)     \n",
       "16  0.043660  (Greeting Cards, Candy Bar) \n",
       "17  0.036335  (Greeting Cards, Magazine)  \n",
       "18  0.032080  (Toothpaste, Greeting Cards)\n",
       "19  0.033015  (Candy Bar, Pencils)        \n",
       "20  0.031630  (Pencils, Magazine)         "
      ]
     },
     "execution_count": 78,
     "metadata": {},
     "output_type": "execute_result"
    }
   ],
   "source": [
    "%%time\n",
    "#Сгенериуем правила\n",
    "from mlxtend.frequent_patterns import fpgrowth\n",
    "fpgrowth(df, min_support=0.03, use_colnames=True)"
   ]
  },
  {
   "cell_type": "code",
   "execution_count": 84,
   "metadata": {},
   "outputs": [
    {
     "name": "stdout",
     "output_type": "stream",
     "text": [
      "Collecting pyECLAT\n",
      "  Using cached https://files.pythonhosted.org/packages/2e/b7/3b5b1fc70e917d2e2b7182dfc0f5b26a573621ee2c64538a7d72bf3f1f15/pyECLAT-1.0.2-py3-none-any.whl\n",
      "Collecting pandas>=0.25.3 (from pyECLAT)\n",
      "  Using cached https://files.pythonhosted.org/packages/c5/16/07da3435a161ae411eef63d6c5edcf9fd11a8a11e94f60d259693b7e0804/pandas-1.1.2-cp37-cp37m-win_amd64.whl\n",
      "Collecting tqdm>=4.41.1 (from pyECLAT)\n",
      "  Using cached https://files.pythonhosted.org/packages/0a/0e/ea53a3d6f1eb2cc31162c9ae89555cc26a3986e5559781f0b0df75aea5cf/tqdm-4.50.0-py2.py3-none-any.whl\n",
      "Collecting numpy>=1.17.4 (from pyECLAT)\n",
      "  Using cached https://files.pythonhosted.org/packages/82/4e/61764556b7ec13f5bd441b04530e2f9f11bb164308ef0e6951919bb846cb/numpy-1.19.2-cp37-cp37m-win_amd64.whl\n",
      "Requirement already satisfied: pytz>=2017.2 in c:\\programdata\\anaconda3\\lib\\site-packages (from pandas>=0.25.3->pyECLAT) (2019.1)\n",
      "Requirement already satisfied: python-dateutil>=2.7.3 in c:\\programdata\\anaconda3\\lib\\site-packages (from pandas>=0.25.3->pyECLAT) (2.8.0)\n",
      "Requirement already satisfied: six>=1.5 in c:\\programdata\\anaconda3\\lib\\site-packages (from python-dateutil>=2.7.3->pandas>=0.25.3->pyECLAT) (1.12.0)\n",
      "Installing collected packages: numpy, pandas, tqdm, pyECLAT\n",
      "  Found existing installation: numpy 1.16.4\n",
      "    Uninstalling numpy-1.16.4:\n",
      "Note: you may need to restart the kernel to use updated packages.\n"
     ]
    },
    {
     "name": "stderr",
     "output_type": "stream",
     "text": [
      "ERROR: Could not install packages due to an EnvironmentError: [WinError 5] Отказано в доступе: 'c:\\\\programdata\\\\anaconda3\\\\lib\\\\site-packages\\\\numpy\\\\compat\\\\py3k.py'\n",
      "Consider using the `--user` option or check the permissions.\n",
      "\n"
     ]
    }
   ],
   "source": [
    "pip install pyECLAT"
   ]
  },
  {
   "cell_type": "code",
   "execution_count": 83,
   "metadata": {},
   "outputs": [
    {
     "ename": "ModuleNotFoundError",
     "evalue": "No module named 'pyECLAT'",
     "output_type": "error",
     "traceback": [
      "\u001b[1;31m---------------------------------------------------------------------------\u001b[0m",
      "\u001b[1;31mModuleNotFoundError\u001b[0m                       Traceback (most recent call last)",
      "\u001b[1;32m<ipython-input-83-eb451886b9ae>\u001b[0m in \u001b[0;36m<module>\u001b[1;34m\u001b[0m\n\u001b[1;32m----> 1\u001b[1;33m \u001b[1;32mfrom\u001b[0m \u001b[0mpyECLAT\u001b[0m \u001b[1;32mimport\u001b[0m \u001b[0mECLAT\u001b[0m\u001b[1;33m\u001b[0m\u001b[1;33m\u001b[0m\u001b[0m\n\u001b[0m\u001b[0;32m      2\u001b[0m \u001b[0meclat_instance\u001b[0m \u001b[1;33m=\u001b[0m \u001b[0mECLAT\u001b[0m\u001b[1;33m(\u001b[0m\u001b[0mproducts_list\u001b[0m\u001b[1;33m,\u001b[0m \u001b[0mverbose\u001b[0m\u001b[1;33m=\u001b[0m\u001b[1;32mTrue\u001b[0m\u001b[1;33m)\u001b[0m \u001b[1;31m#verbose=True to see the loading bar\u001b[0m\u001b[1;33m\u001b[0m\u001b[1;33m\u001b[0m\u001b[0m\n",
      "\u001b[1;31mModuleNotFoundError\u001b[0m: No module named 'pyECLAT'"
     ]
    }
   ],
   "source": [
    "from pyECLAT import ECLAT\n",
    "eclat_instance = ECLAT(products_list, verbose=True) #verbose=True to see the loading bar"
   ]
  }
 ],
 "metadata": {
  "kernelspec": {
   "display_name": "Python 3",
   "language": "python",
   "name": "python3"
  },
  "language_info": {
   "codemirror_mode": {
    "name": "ipython",
    "version": 3
   },
   "file_extension": ".py",
   "mimetype": "text/x-python",
   "name": "python",
   "nbconvert_exporter": "python",
   "pygments_lexer": "ipython3",
   "version": "3.7.3"
  }
 },
 "nbformat": 4,
 "nbformat_minor": 4
}
