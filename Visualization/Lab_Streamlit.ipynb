{
 "cells": [
  {
   "cell_type": "markdown",
   "metadata": {
    "id": "D_W1yFuB-XtM"
   },
   "source": [
    "# Быстрое развертывание веб-приложения машинного обучения "
   ]
  },
  {
   "cell_type": "markdown",
   "metadata": {
    "id": "atswc1WP-XtM"
   },
   "source": [
    "# Streamlit\n",
    "\n",
    "Streamlit - это быстрый способ создать приложение для обработки данных\n",
    "\n",
    "Допустим, вам нужно быстро создать приложение для обработки данных. Он может прогуляться в себя панель инструментов и работать с моделью. Или, если вам нужен быстрый прототип для демонстрации заказчику, что можно сделать за несколько часов и бесплатно.\n",
    "\n",
    "Streamlit идеально подходит для этих задач. \n",
    "\n",
    "ВСделаем очень простой дашборд с выбором типа ирисов и построением гистограмм. Также в Streamlit вы можете обучать и создавать модели вывода."
   ]
  },
  {
   "cell_type": "code",
   "execution_count": 1,
   "metadata": {},
   "outputs": [
    {
     "name": "stdout",
     "output_type": "stream",
     "text": [
      "Collecting streamlit\n",
      "  Using cached streamlit-0.71.0-py2.py3-none-any.whl (7.4 MB)\n",
      "Processing c:\\users\\guzel\\appdata\\local\\pip\\cache\\wheels\\92\\a0\\00\\8690a57883956a301d91cf4ec999cc0b258b01e3f548f86e89\\blinker-1.4-cp37-none-any.whl\n",
      "Collecting protobuf!=3.11,>=3.6.0\n",
      "  Downloading protobuf-3.14.0-cp37-cp37m-win_amd64.whl (798 kB)\n",
      "Collecting enum-compat\n",
      "  Using cached enum_compat-0.0.3-py3-none-any.whl (1.3 kB)\n",
      "Collecting base58\n",
      "  Using cached base58-2.0.1-py3-none-any.whl (4.3 kB)\n",
      "Collecting pydeck>=0.1.dev5\n",
      "  Using cached pydeck-0.5.0-py2.py3-none-any.whl (4.5 MB)\n",
      "Collecting validators\n",
      "  Using cached validators-0.18.1-py3-none-any.whl (19 kB)\n",
      "Requirement already satisfied: tornado>=5.0 in c:\\users\\guzel\\.conda\\envs\\new_env\\lib\\site-packages (from streamlit) (6.0.4)\n",
      "Collecting numpy\n",
      "  Downloading numpy-1.19.4-cp37-cp37m-win_amd64.whl (12.9 MB)\n",
      "Collecting gitpython\n",
      "  Using cached GitPython-3.1.11-py3-none-any.whl (159 kB)\n",
      "Collecting cachetools>=4.0\n",
      "  Using cached cachetools-4.1.1-py3-none-any.whl (10 kB)\n",
      "Collecting pandas>=0.21.0\n",
      "  Downloading pandas-1.1.4-cp37-cp37m-win_amd64.whl (8.7 MB)\n",
      "Collecting pillow>=6.2.0\n",
      "  Using cached Pillow-8.0.1-cp37-cp37m-win_amd64.whl (2.1 MB)\n",
      "Collecting click>=7.0\n",
      "  Using cached click-7.1.2-py2.py3-none-any.whl (82 kB)\n",
      "Requirement already satisfied: requests in c:\\users\\guzel\\.conda\\envs\\new_env\\lib\\site-packages (from streamlit) (2.25.0)\n",
      "Requirement already satisfied: toml in c:\\users\\guzel\\appdata\\roaming\\python\\python37\\site-packages (from streamlit) (0.10.1)\n",
      "Collecting altair>=3.2.0\n",
      "  Using cached altair-4.1.0-py3-none-any.whl (727 kB)\n",
      "Collecting pyarrow\n",
      "  Using cached pyarrow-2.0.0-cp37-cp37m-win_amd64.whl (10.7 MB)\n",
      "Collecting tzlocal\n",
      "  Using cached tzlocal-2.1-py2.py3-none-any.whl (16 kB)\n",
      "Collecting astor\n",
      "  Using cached astor-0.8.1-py2.py3-none-any.whl (27 kB)\n",
      "Collecting boto3\n",
      "  Downloading boto3-1.16.26-py2.py3-none-any.whl (129 kB)\n",
      "Note: you may need to restart the kernel to use updated packages.\n",
      "Requirement already satisfied: packaging in c:\\users\\guzel\\.conda\\envs\\new_env\\lib\\site-packages (from streamlit) (20.4)\n",
      "Collecting botocore>=1.13.44\n",
      "  Downloading botocore-1.19.26-py2.py3-none-any.whl (6.9 MB)\n",
      "Processing c:\\users\\guzel\\appdata\\local\\pip\\cache\\wheels\\9e\\11\\04\\5160b8815b0cc7cf574bdc6d053e510169ec264c8791b4ec3a\\watchdog-0.10.4-cp37-none-any.whl\n",
      "Requirement already satisfied: python-dateutil in c:\\users\\guzel\\.conda\\envs\\new_env\\lib\\site-packages (from streamlit) (2.8.1)\n",
      "Requirement already satisfied: six>=1.9 in c:\\users\\guzel\\appdata\\roaming\\python\\python37\\site-packages (from protobuf!=3.11,>=3.6.0->streamlit) (1.15.0)\n",
      "Requirement already satisfied: traitlets>=4.3.2 in c:\\users\\guzel\\.conda\\envs\\new_env\\lib\\site-packages (from pydeck>=0.1.dev5->streamlit) (5.0.5)\n",
      "Requirement already satisfied: ipykernel>=5.1.2; python_version >= \"3.4\" in c:\\users\\guzel\\.conda\\envs\\new_env\\lib\\site-packages (from pydeck>=0.1.dev5->streamlit) (5.3.4)\n",
      "Requirement already satisfied: jinja2>=2.10.1 in c:\\users\\guzel\\.conda\\envs\\new_env\\lib\\site-packages (from pydeck>=0.1.dev5->streamlit) (2.11.2)\n",
      "Collecting ipywidgets>=7.0.0\n",
      "  Downloading ipywidgets-7.5.1-py2.py3-none-any.whl (121 kB)\n",
      "Requirement already satisfied: decorator>=3.4.0 in c:\\users\\guzel\\.conda\\envs\\new_env\\lib\\site-packages (from validators->streamlit) (4.4.2)\n",
      "Collecting gitdb<5,>=4.0.1\n",
      "  Using cached gitdb-4.0.5-py3-none-any.whl (63 kB)\n",
      "Collecting pytz>=2017.2\n",
      "  Using cached pytz-2020.4-py2.py3-none-any.whl (509 kB)\n",
      "Requirement already satisfied: urllib3<1.27,>=1.21.1 in c:\\users\\guzel\\.conda\\envs\\new_env\\lib\\site-packages (from requests->streamlit) (1.25.11)\n",
      "Requirement already satisfied: chardet<4,>=3.0.2 in c:\\users\\guzel\\.conda\\envs\\new_env\\lib\\site-packages (from requests->streamlit) (3.0.4)\n",
      "Requirement already satisfied: idna<3,>=2.5 in c:\\users\\guzel\\.conda\\envs\\new_env\\lib\\site-packages (from requests->streamlit) (2.10)\n",
      "Requirement already satisfied: certifi>=2017.4.17 in c:\\users\\guzel\\.conda\\envs\\new_env\\lib\\site-packages (from requests->streamlit) (2020.11.8)\n",
      "Collecting toolz\n",
      "  Downloading toolz-0.11.1-py3-none-any.whl (55 kB)\n",
      "Requirement already satisfied: jsonschema in c:\\users\\guzel\\.conda\\envs\\new_env\\lib\\site-packages (from altair>=3.2.0->streamlit) (3.2.0)\n",
      "Requirement already satisfied: entrypoints in c:\\users\\guzel\\.conda\\envs\\new_env\\lib\\site-packages (from altair>=3.2.0->streamlit) (0.3)\n",
      "Collecting jmespath<1.0.0,>=0.7.1\n",
      "  Using cached jmespath-0.10.0-py2.py3-none-any.whl (24 kB)\n",
      "Collecting s3transfer<0.4.0,>=0.3.0\n",
      "  Using cached s3transfer-0.3.3-py2.py3-none-any.whl (69 kB)\n",
      "Requirement already satisfied: pyparsing>=2.0.2 in c:\\users\\guzel\\.conda\\envs\\new_env\\lib\\site-packages (from packaging->streamlit) (2.4.7)\n",
      "Processing c:\\users\\guzel\\appdata\\local\\pip\\cache\\wheels\\0b\\04\\79\\c3b0c3a0266a3cb4376da31e5bfe8bba0c489246968a68e843\\pathtools-0.1.2-cp37-none-any.whl\n",
      "Requirement already satisfied: ipython-genutils in c:\\users\\guzel\\.conda\\envs\\new_env\\lib\\site-packages (from traitlets>=4.3.2->pydeck>=0.1.dev5->streamlit) (0.2.0)\n",
      "Requirement already satisfied: ipython>=5.0.0 in c:\\users\\guzel\\.conda\\envs\\new_env\\lib\\site-packages (from ipykernel>=5.1.2; python_version >= \"3.4\"->pydeck>=0.1.dev5->streamlit) (7.19.0)\n",
      "Requirement already satisfied: jupyter-client in c:\\users\\guzel\\.conda\\envs\\new_env\\lib\\site-packages (from ipykernel>=5.1.2; python_version >= \"3.4\"->pydeck>=0.1.dev5->streamlit) (6.1.7)\n",
      "Requirement already satisfied: MarkupSafe>=0.23 in c:\\users\\guzel\\.conda\\envs\\new_env\\lib\\site-packages (from jinja2>=2.10.1->pydeck>=0.1.dev5->streamlit) (1.1.1)\n",
      "Collecting widgetsnbextension~=3.5.0\n",
      "  Downloading widgetsnbextension-3.5.1-py2.py3-none-any.whl (2.2 MB)\n",
      "Requirement already satisfied: nbformat>=4.2.0 in c:\\users\\guzel\\.conda\\envs\\new_env\\lib\\site-packages (from ipywidgets>=7.0.0->pydeck>=0.1.dev5->streamlit) (5.0.8)\n",
      "Collecting smmap<4,>=3.0.1\n",
      "  Using cached smmap-3.0.4-py2.py3-none-any.whl (25 kB)\n",
      "Requirement already satisfied: setuptools in c:\\users\\guzel\\.conda\\envs\\new_env\\lib\\site-packages (from jsonschema->altair>=3.2.0->streamlit) (50.3.1.post20201107)\n",
      "Requirement already satisfied: importlib-metadata; python_version < \"3.8\" in c:\\users\\guzel\\.conda\\envs\\new_env\\lib\\site-packages (from jsonschema->altair>=3.2.0->streamlit) (2.0.0)\n",
      "Requirement already satisfied: attrs>=17.4.0 in c:\\users\\guzel\\.conda\\envs\\new_env\\lib\\site-packages (from jsonschema->altair>=3.2.0->streamlit) (20.3.0)\n",
      "Requirement already satisfied: pyrsistent>=0.14.0 in c:\\users\\guzel\\.conda\\envs\\new_env\\lib\\site-packages (from jsonschema->altair>=3.2.0->streamlit) (0.17.3)\n",
      "Requirement already satisfied: colorama; sys_platform == \"win32\" in c:\\users\\guzel\\appdata\\roaming\\python\\python37\\site-packages (from ipython>=5.0.0->ipykernel>=5.1.2; python_version >= \"3.4\"->pydeck>=0.1.dev5->streamlit) (0.4.4)\n",
      "Requirement already satisfied: backcall in c:\\users\\guzel\\.conda\\envs\\new_env\\lib\\site-packages (from ipython>=5.0.0->ipykernel>=5.1.2; python_version >= \"3.4\"->pydeck>=0.1.dev5->streamlit) (0.2.0)\n",
      "Requirement already satisfied: jedi>=0.10 in c:\\users\\guzel\\.conda\\envs\\new_env\\lib\\site-packages (from ipython>=5.0.0->ipykernel>=5.1.2; python_version >= \"3.4\"->pydeck>=0.1.dev5->streamlit) (0.17.2)\n",
      "Requirement already satisfied: pygments in c:\\users\\guzel\\.conda\\envs\\new_env\\lib\\site-packages (from ipython>=5.0.0->ipykernel>=5.1.2; python_version >= \"3.4\"->pydeck>=0.1.dev5->streamlit) (2.7.2)\n",
      "Requirement already satisfied: pickleshare in c:\\users\\guzel\\.conda\\envs\\new_env\\lib\\site-packages (from ipython>=5.0.0->ipykernel>=5.1.2; python_version >= \"3.4\"->pydeck>=0.1.dev5->streamlit) (0.7.5)\n",
      "Requirement already satisfied: prompt-toolkit!=3.0.0,!=3.0.1,<3.1.0,>=2.0.0 in c:\\users\\guzel\\.conda\\envs\\new_env\\lib\\site-packages (from ipython>=5.0.0->ipykernel>=5.1.2; python_version >= \"3.4\"->pydeck>=0.1.dev5->streamlit) (3.0.8)\n",
      "Requirement already satisfied: jupyter-core>=4.6.0 in c:\\users\\guzel\\.conda\\envs\\new_env\\lib\\site-packages (from jupyter-client->ipykernel>=5.1.2; python_version >= \"3.4\"->pydeck>=0.1.dev5->streamlit) (4.7.0)\n",
      "Requirement already satisfied: pyzmq>=13 in c:\\users\\guzel\\.conda\\envs\\new_env\\lib\\site-packages (from jupyter-client->ipykernel>=5.1.2; python_version >= \"3.4\"->pydeck>=0.1.dev5->streamlit) (20.0.0)\n",
      "Requirement already satisfied: notebook>=4.4.1 in c:\\users\\guzel\\.conda\\envs\\new_env\\lib\\site-packages (from widgetsnbextension~=3.5.0->ipywidgets>=7.0.0->pydeck>=0.1.dev5->streamlit) (6.1.4)\n",
      "Requirement already satisfied: zipp>=0.5 in c:\\users\\guzel\\.conda\\envs\\new_env\\lib\\site-packages (from importlib-metadata; python_version < \"3.8\"->jsonschema->altair>=3.2.0->streamlit) (3.4.0)\n",
      "Requirement already satisfied: parso<0.8.0,>=0.7.0 in c:\\users\\guzel\\.conda\\envs\\new_env\\lib\\site-packages (from jedi>=0.10->ipython>=5.0.0->ipykernel>=5.1.2; python_version >= \"3.4\"->pydeck>=0.1.dev5->streamlit) (0.7.0)\n",
      "Requirement already satisfied: wcwidth in c:\\users\\guzel\\.conda\\envs\\new_env\\lib\\site-packages (from prompt-toolkit!=3.0.0,!=3.0.1,<3.1.0,>=2.0.0->ipython>=5.0.0->ipykernel>=5.1.2; python_version >= \"3.4\"->pydeck>=0.1.dev5->streamlit) (0.2.5)\n",
      "Requirement already satisfied: pywin32>=1.0; sys_platform == \"win32\" in c:\\users\\guzel\\.conda\\envs\\new_env\\lib\\site-packages (from jupyter-core>=4.6.0->jupyter-client->ipykernel>=5.1.2; python_version >= \"3.4\"->pydeck>=0.1.dev5->streamlit) (227)\n",
      "Requirement already satisfied: nbconvert in c:\\users\\guzel\\.conda\\envs\\new_env\\lib\\site-packages (from notebook>=4.4.1->widgetsnbextension~=3.5.0->ipywidgets>=7.0.0->pydeck>=0.1.dev5->streamlit) (6.0.7)\n",
      "Requirement already satisfied: prometheus-client in c:\\users\\guzel\\.conda\\envs\\new_env\\lib\\site-packages (from notebook>=4.4.1->widgetsnbextension~=3.5.0->ipywidgets>=7.0.0->pydeck>=0.1.dev5->streamlit) (0.9.0)\n",
      "Requirement already satisfied: terminado>=0.8.3 in c:\\users\\guzel\\.conda\\envs\\new_env\\lib\\site-packages (from notebook>=4.4.1->widgetsnbextension~=3.5.0->ipywidgets>=7.0.0->pydeck>=0.1.dev5->streamlit) (0.9.1)\n",
      "Requirement already satisfied: Send2Trash in c:\\users\\guzel\\.conda\\envs\\new_env\\lib\\site-packages (from notebook>=4.4.1->widgetsnbextension~=3.5.0->ipywidgets>=7.0.0->pydeck>=0.1.dev5->streamlit) (1.5.0)\n",
      "Requirement already satisfied: argon2-cffi in c:\\users\\guzel\\.conda\\envs\\new_env\\lib\\site-packages (from notebook>=4.4.1->widgetsnbextension~=3.5.0->ipywidgets>=7.0.0->pydeck>=0.1.dev5->streamlit) (20.1.0)\n",
      "Requirement already satisfied: nbclient<0.6.0,>=0.5.0 in c:\\users\\guzel\\.conda\\envs\\new_env\\lib\\site-packages (from nbconvert->notebook>=4.4.1->widgetsnbextension~=3.5.0->ipywidgets>=7.0.0->pydeck>=0.1.dev5->streamlit) (0.5.1)\n",
      "Requirement already satisfied: jupyterlab-pygments in c:\\users\\guzel\\.conda\\envs\\new_env\\lib\\site-packages (from nbconvert->notebook>=4.4.1->widgetsnbextension~=3.5.0->ipywidgets>=7.0.0->pydeck>=0.1.dev5->streamlit) (0.1.2)\n",
      "Requirement already satisfied: pandocfilters>=1.4.1 in c:\\users\\guzel\\.conda\\envs\\new_env\\lib\\site-packages (from nbconvert->notebook>=4.4.1->widgetsnbextension~=3.5.0->ipywidgets>=7.0.0->pydeck>=0.1.dev5->streamlit) (1.4.3)\n",
      "Requirement already satisfied: testpath in c:\\users\\guzel\\.conda\\envs\\new_env\\lib\\site-packages (from nbconvert->notebook>=4.4.1->widgetsnbextension~=3.5.0->ipywidgets>=7.0.0->pydeck>=0.1.dev5->streamlit) (0.4.4)\n",
      "Requirement already satisfied: bleach in c:\\users\\guzel\\.conda\\envs\\new_env\\lib\\site-packages (from nbconvert->notebook>=4.4.1->widgetsnbextension~=3.5.0->ipywidgets>=7.0.0->pydeck>=0.1.dev5->streamlit) (3.2.1)\n",
      "Requirement already satisfied: defusedxml in c:\\users\\guzel\\.conda\\envs\\new_env\\lib\\site-packages (from nbconvert->notebook>=4.4.1->widgetsnbextension~=3.5.0->ipywidgets>=7.0.0->pydeck>=0.1.dev5->streamlit) (0.6.0)\n",
      "Requirement already satisfied: mistune<2,>=0.8.1 in c:\\users\\guzel\\.conda\\envs\\new_env\\lib\\site-packages (from nbconvert->notebook>=4.4.1->widgetsnbextension~=3.5.0->ipywidgets>=7.0.0->pydeck>=0.1.dev5->streamlit) (0.8.4)\n",
      "Requirement already satisfied: pywinpty>=0.5 in c:\\users\\guzel\\.conda\\envs\\new_env\\lib\\site-packages (from terminado>=0.8.3->notebook>=4.4.1->widgetsnbextension~=3.5.0->ipywidgets>=7.0.0->pydeck>=0.1.dev5->streamlit) (0.5.7)\n",
      "Requirement already satisfied: cffi>=1.0.0 in c:\\users\\guzel\\.conda\\envs\\new_env\\lib\\site-packages (from argon2-cffi->notebook>=4.4.1->widgetsnbextension~=3.5.0->ipywidgets>=7.0.0->pydeck>=0.1.dev5->streamlit) (1.14.4)\n",
      "Requirement already satisfied: async-generator in c:\\users\\guzel\\.conda\\envs\\new_env\\lib\\site-packages (from nbclient<0.6.0,>=0.5.0->nbconvert->notebook>=4.4.1->widgetsnbextension~=3.5.0->ipywidgets>=7.0.0->pydeck>=0.1.dev5->streamlit) (1.10)\n",
      "Requirement already satisfied: nest-asyncio in c:\\users\\guzel\\.conda\\envs\\new_env\\lib\\site-packages (from nbclient<0.6.0,>=0.5.0->nbconvert->notebook>=4.4.1->widgetsnbextension~=3.5.0->ipywidgets>=7.0.0->pydeck>=0.1.dev5->streamlit) (1.4.3)\n",
      "Requirement already satisfied: webencodings in c:\\users\\guzel\\.conda\\envs\\new_env\\lib\\site-packages (from bleach->nbconvert->notebook>=4.4.1->widgetsnbextension~=3.5.0->ipywidgets>=7.0.0->pydeck>=0.1.dev5->streamlit) (0.5.1)\n",
      "Requirement already satisfied: pycparser in c:\\users\\guzel\\.conda\\envs\\new_env\\lib\\site-packages (from cffi>=1.0.0->argon2-cffi->notebook>=4.4.1->widgetsnbextension~=3.5.0->ipywidgets>=7.0.0->pydeck>=0.1.dev5->streamlit) (2.20)\n",
      "Installing collected packages: blinker, protobuf, enum-compat, base58, numpy, widgetsnbextension, ipywidgets, pydeck, validators, smmap, gitdb, gitpython, cachetools, pytz, pandas, pillow, click, toolz, altair, pyarrow, tzlocal, astor, jmespath, botocore, s3transfer, boto3, pathtools, watchdog, streamlit\n",
      "Successfully installed altair-4.1.0 astor-0.8.1 base58-2.0.1 blinker-1.4 boto3-1.16.26 botocore-1.19.26 cachetools-4.1.1 click-7.1.2 enum-compat-0.0.3 gitdb-4.0.5 gitpython-3.1.11 ipywidgets-7.5.1 jmespath-0.10.0 numpy-1.19.4 pandas-1.1.4 pathtools-0.1.2 pillow-8.0.1 protobuf-3.14.0 pyarrow-2.0.0 pydeck-0.5.0 pytz-2020.4 s3transfer-0.3.3 smmap-3.0.4 streamlit-0.71.0 toolz-0.11.1 tzlocal-2.1 validators-0.18.1 watchdog-0.10.4 widgetsnbextension-3.5.1\n"
     ]
    }
   ],
   "source": [
    "pip install streamlit"
   ]
  },
  {
   "cell_type": "markdown",
   "metadata": {
    "id": "JYvUiEUG-XtM"
   },
   "source": [
    "В этих строках мы импортируем библиотеки streamlit и pandas, назначая им, соответственно, псевдонимы st и pd. Мы, кроме того, импортируем пакет datasets из библиотеки scikit-learn (sklearn). Мы воспользуемся этим пакетом ниже, в команде iris = datasets.load_iris(), для загрузки интересующего нас набора данных. И наконец, тут мы импортируем функцию RandomForestClassifier() из пакета sklearn.ensemble."
   ]
  },
  {
   "cell_type": "code",
   "execution_count": 7,
   "metadata": {},
   "outputs": [
    {
     "ename": "SyntaxError",
     "evalue": "invalid syntax (<ipython-input-7-b3af61d31550>, line 1)",
     "output_type": "error",
     "traceback": [
      "\u001b[1;36m  File \u001b[1;32m\"<ipython-input-7-b3af61d31550>\"\u001b[1;36m, line \u001b[1;32m1\u001b[0m\n\u001b[1;33m    streamlit run lab_streamlit.py\u001b[0m\n\u001b[1;37m                ^\u001b[0m\n\u001b[1;31mSyntaxError\u001b[0m\u001b[1;31m:\u001b[0m invalid syntax\n"
     ]
    }
   ],
   "source": [
    "streamlit run lab_streamlit.py"
   ]
  },
  {
   "cell_type": "code",
   "execution_count": 3,
   "metadata": {
    "id": "JW7pNGc9-XtM"
   },
   "outputs": [],
   "source": [
    "import streamlit as st\n",
    "# import pandas as pd\n",
    "# from sklearn import datasets\n",
    "# from sklearn.ensemble import RandomForestClassifier"
   ]
  },
  {
   "cell_type": "markdown",
   "metadata": {
    "id": "xFf9GlKM-XtN"
   },
   "source": [
    "В этой строке мы описываем заголовок боковой панели, используя функцию st.sidebar.header(). Обратите внимание на то, что тут sidebar стоит между st и header(), что и даёт полное имя функции st.sidebar.header(). Эта функция сообщает библиотеке streamlit о том, что мы хотим поместить заголовок в боковую панель."
   ]
  },
  {
   "cell_type": "code",
   "execution_count": null,
   "metadata": {},
   "outputs": [],
   "source": []
  },
  {
   "cell_type": "code",
   "execution_count": null,
   "metadata": {
    "id": "lDYwq_AW-XtN",
    "outputId": "3989257f-fa87-407b-f2d7-a4e23e04aee8"
   },
   "outputs": [
    {
     "data": {
      "text/plain": [
       "<streamlit.delta_generator.DeltaGenerator at 0x1ea88905ee0>"
      ]
     },
     "execution_count": 2,
     "metadata": {
      "tags": []
     },
     "output_type": "execute_result"
    }
   ],
   "source": [
    "st.sidebar.header('User Input Parameters')"
   ]
  },
  {
   "cell_type": "code",
   "execution_count": null,
   "metadata": {
    "id": "kzGcCTM_-XtN"
   },
   "outputs": [],
   "source": []
  },
  {
   "cell_type": "markdown",
   "metadata": {
    "id": "4J1IR_1T-XtN"
   },
   "source": [
    "Здесь мы объявляем функцию user_input_features(), которая берёт данные, введённые пользователем (то есть — четыре характеристики цветка, которые вводятся с использованием ползунков), и возвращает результат в виде датафрейма. Стоит отметить, что каждый входной параметр вводится в систему с помощью ползунка. Например, ползунок для ввода длины чашелистика (sepal length) описывается так: st.sidebar.slider(‘Sepal length’, 4.3, 7.9, 5.4). Первый из четырёх входных аргументов этой функции задаёт подпись ползунка, выводимую выше него. Это, в данном случае, текст Sepal length. Два следующих аргумента задают минимальное и максимальное значения, которые можно задавать с помощью ползунка. Последний аргумент задаёт значение, выставляемое на ползунке по умолчанию, при загрузке страницы. Здесь это — 5.4."
   ]
  },
  {
   "cell_type": "code",
   "execution_count": null,
   "metadata": {
    "id": "Auw3bqKA-XtN"
   },
   "outputs": [],
   "source": [
    "def user_input_features():\n",
    "    sepal_length = st.sidebar.slider('Sepal length', 4.3, 7.9, 5.4)\n",
    "    sepal_width = st.sidebar.slider('Sepal width', 2.0, 4.4, 3.4)\n",
    "    petal_length = st.sidebar.slider('Petal length', 1.0, 6.9, 1.3)\n",
    "    petal_width = st.sidebar.slider('Petal width', 0.1, 2.5, 0.2)\n",
    "    data = {'sepal_length': sepal_length,\n",
    "            'sepal_width': sepal_width,\n",
    "            'petal_length': petal_length,\n",
    "            'petal_width': petal_width}\n",
    "    features = pd.DataFrame(data, index=[0])\n",
    "    return features"
   ]
  },
  {
   "cell_type": "code",
   "execution_count": null,
   "metadata": {
    "id": "0rnh7cKi-XtN"
   },
   "outputs": [],
   "source": [
    "df = user_input_features()"
   ]
  },
  {
   "cell_type": "markdown",
   "metadata": {
    "id": "1zwGbd9v-XtN"
   },
   "source": [
    "Здесь датафрейм, сформированный функцией user_input_features() записываем в переменную df."
   ]
  },
  {
   "cell_type": "code",
   "execution_count": null,
   "metadata": {
    "id": "fnk9lEdl-XtN"
   },
   "outputs": [],
   "source": [
    "iris = datasets.load_iris()"
   ]
  },
  {
   "cell_type": "markdown",
   "metadata": {
    "id": "5Pn-fHEb-XtN"
   },
   "source": [
    "Загрузка набора данных Iris из пакета sklearn.datasets и запись его в переменную iris."
   ]
  },
  {
   "cell_type": "markdown",
   "metadata": {
    "id": "mTEJPcpu-XtN"
   },
   "source": [
    "Создание переменной Х, содержащей сведения о 4 характеристиках цветка, которые имеются в iris.data.\n",
    "\n",
    "\n",
    "Создание переменной Y, которая содержит сведения о виде цветка. Эти сведения хранятся в iris.target."
   ]
  },
  {
   "cell_type": "code",
   "execution_count": null,
   "metadata": {
    "id": "te-fJMWI-XtN"
   },
   "outputs": [],
   "source": [
    "X = iris.data\n",
    "Y = iris.target"
   ]
  },
  {
   "cell_type": "markdown",
   "metadata": {
    "id": "qTb6U0z--XtN"
   },
   "source": [
    "\n",
    "Здесь мы, пользуясь функцией RandomForestClassifier(), назначаем классификатор, основанный на алгоритме «случайный лес», переменной clf"
   ]
  },
  {
   "cell_type": "code",
   "execution_count": null,
   "metadata": {
    "id": "lJ9DOL06-XtN"
   },
   "outputs": [],
   "source": [
    "clf = RandomForestClassifier()"
   ]
  },
  {
   "cell_type": "markdown",
   "metadata": {
    "id": "ZlNOgrSl-XtN"
   },
   "source": [
    "Здесь мы, пользуясь функцией RandomForestClassifier(), назначаем классификатор, основанный на алгоритме «случайный лес», переменной clf."
   ]
  },
  {
   "cell_type": "code",
   "execution_count": null,
   "metadata": {
    "id": "3Uvh8duP-XtN",
    "outputId": "aa36bc21-7917-4fd1-f874-edf473e78a21"
   },
   "outputs": [
    {
     "data": {
      "text/plain": [
       "RandomForestClassifier()"
      ]
     },
     "execution_count": 8,
     "metadata": {
      "tags": []
     },
     "output_type": "execute_result"
    }
   ],
   "source": [
    "clf.fit(X, Y)"
   ]
  },
  {
   "cell_type": "markdown",
   "metadata": {
    "id": "fBh1mWNJ-XtO"
   },
   "source": [
    "\n",
    "Получение сведений о виде цветка с помощью обученной модели."
   ]
  },
  {
   "cell_type": "code",
   "execution_count": null,
   "metadata": {
    "id": "F_ncrPzW-XtO"
   },
   "outputs": [],
   "source": [
    "prediction = clf.predict(df)"
   ]
  },
  {
   "cell_type": "markdown",
   "metadata": {
    "id": "0EjgTXTc-XtO"
   },
   "source": [
    "\n",
    "Получение сведений о прогностической вероятности."
   ]
  },
  {
   "cell_type": "code",
   "execution_count": null,
   "metadata": {
    "id": "f84aTbzw-XtO"
   },
   "outputs": [],
   "source": [
    "prediction_proba = clf.predict_proba(df)"
   ]
  },
  {
   "cell_type": "markdown",
   "metadata": {
    "id": "QdimK48O-XtO"
   },
   "source": [
    "# Формирование основной панели"
   ]
  },
  {
   "cell_type": "code",
   "execution_count": null,
   "metadata": {
    "id": "9P0SkKX--XtO"
   },
   "outputs": [],
   "source": []
  },
  {
   "cell_type": "markdown",
   "metadata": {
    "id": "kLEc7Qj_-XtO"
   },
   "source": [
    "Здесь мы, пользуясь функцией st.write(), выводим текст. А именно, речь идёт о заголовке, выводимом в главной панели приложения, текст которого задан в формате Markdown. Символ # используется для указания того, что текст является заголовком. За строкой заголовка идёт строка обычного текста"
   ]
  },
  {
   "cell_type": "code",
   "execution_count": null,
   "metadata": {
    "id": "VhQUfiYR-XtO"
   },
   "outputs": [],
   "source": [
    "st.write(\"\"\"\n",
    "# Simple Iris Flower Prediction App\n",
    "This app predicts the **Iris flower** type!\n",
    "\"\"\")"
   ]
  },
  {
   "cell_type": "markdown",
   "metadata": {
    "id": "J7_CpQcn-XtO"
   },
   "source": [
    "В этой строке, пользуясь функцией st.subheader(), мы указываем подзаголовок, выводимый в основной панели. Этот подзаголовок используется для оформления раздела страницы, в котором будет выведено содержимое датафрейма, то есть того, что было введено пользователем с помощью ползунков."
   ]
  },
  {
   "cell_type": "code",
   "execution_count": null,
   "metadata": {
    "id": "Yn6keJ7G-XtO"
   },
   "outputs": [],
   "source": [
    "st.write(df)"
   ]
  },
  {
   "cell_type": "markdown",
   "metadata": {
    "id": "F-jb3Ez0-XtO"
   },
   "source": [
    "Этой командой мы выводим на основную панель содержимое датафрейма df."
   ]
  },
  {
   "cell_type": "code",
   "execution_count": null,
   "metadata": {
    "id": "fuHgTAuR-XtO",
    "outputId": "29837c5a-1a6f-441b-e3c8-10c48a8d5e48"
   },
   "outputs": [
    {
     "data": {
      "text/plain": [
       "<streamlit.delta_generator.DeltaGenerator at 0x1ea88905e80>"
      ]
     },
     "execution_count": 12,
     "metadata": {
      "tags": []
     },
     "output_type": "execute_result"
    }
   ],
   "source": [
    "st.subheader('Class labels and their corresponding index number')"
   ]
  },
  {
   "cell_type": "markdown",
   "metadata": {
    "id": "UtjbOGBw-XtO"
   },
   "source": [
    "\n",
    "Данный код описывает второй подзаголовок основной панели. В этом разделе будут выведены данные о видах цветков."
   ]
  },
  {
   "cell_type": "code",
   "execution_count": null,
   "metadata": {
    "id": "Co1FFSZG-XtO"
   },
   "outputs": [],
   "source": [
    "st.write(iris.target_names)"
   ]
  },
  {
   "cell_type": "markdown",
   "metadata": {
    "id": "3XJsMD5w-XtO"
   },
   "source": [
    "здесь, во второй раздел основной панели, выводятся названия видов цветков (setosa, versicolor и virginica) и соответствующие им номера (0, 1, 2)"
   ]
  },
  {
   "cell_type": "code",
   "execution_count": null,
   "metadata": {
    "id": "pFpcI50A-XtO",
    "outputId": "5e9bdf41-ec56-4181-c4c6-18b5f52ce447"
   },
   "outputs": [
    {
     "data": {
      "text/plain": [
       "<streamlit.delta_generator.DeltaGenerator at 0x1ea88905e80>"
      ]
     },
     "execution_count": 14,
     "metadata": {
      "tags": []
     },
     "output_type": "execute_result"
    }
   ],
   "source": [
    "st.subheader('Prediction')"
   ]
  },
  {
   "cell_type": "markdown",
   "metadata": {
    "id": "Z1NGgdE3-XtO"
   },
   "source": [
    "Вывод третьего подзаголовка для раздела, в котором будет находиться результат классификации."
   ]
  },
  {
   "cell_type": "markdown",
   "metadata": {
    "id": "sJR1DbwF-XtO"
   },
   "source": [
    "Вывод результата классификации. Стоит отметить, что содержимое переменной prediction — это номер вида цветка, выданный моделью на основе входных данных, введённых пользователем. Для того чтобы вывести название вида, используется конструкция iris.target_names[prediction]."
   ]
  },
  {
   "cell_type": "code",
   "execution_count": null,
   "metadata": {
    "id": "vbqxn-jV-XtO"
   },
   "outputs": [],
   "source": [
    "st.write(iris.target_names[prediction])"
   ]
  },
  {
   "cell_type": "markdown",
   "metadata": {
    "id": "Hb4cv1Vd-XtO"
   },
   "source": [
    "Выводим заголовок четвёртого (и последнего) раздела основной панели. Здесь будут представлены данные о прогностической вероятности.\n"
   ]
  },
  {
   "cell_type": "code",
   "execution_count": null,
   "metadata": {
    "id": "33btQ_ED-XtO",
    "outputId": "7884f843-550f-4167-e7c3-64fefb738f9a"
   },
   "outputs": [
    {
     "data": {
      "text/plain": [
       "<streamlit.delta_generator.DeltaGenerator at 0x1ea88905e80>"
      ]
     },
     "execution_count": 16,
     "metadata": {
      "tags": []
     },
     "output_type": "execute_result"
    }
   ],
   "source": [
    "st.subheader('Prediction Probability')"
   ]
  },
  {
   "cell_type": "markdown",
   "metadata": {
    "id": "IUGEocDk-XtO"
   },
   "source": [
    "Вывод данных о прогностической вероятности."
   ]
  },
  {
   "cell_type": "code",
   "execution_count": null,
   "metadata": {
    "id": "DdNN5w2P-XtO",
    "outputId": "11292b56-9e76-484f-c9fb-6c20eaa56d34"
   },
   "outputs": [
    {
     "ename": "NameError",
     "evalue": "name 'prediction_proba' is not defined",
     "output_type": "error",
     "traceback": [
      "\u001b[1;31m---------------------------------------------------------------------------\u001b[0m",
      "\u001b[1;31mNameError\u001b[0m                                 Traceback (most recent call last)",
      "\u001b[1;32m<ipython-input-17-5aa7bb6f2576>\u001b[0m in \u001b[0;36m<module>\u001b[1;34m\u001b[0m\n\u001b[1;32m----> 1\u001b[1;33m \u001b[0mst\u001b[0m\u001b[1;33m.\u001b[0m\u001b[0mwrite\u001b[0m\u001b[1;33m(\u001b[0m\u001b[0mprediction_proba\u001b[0m\u001b[1;33m)\u001b[0m\u001b[1;33m\u001b[0m\u001b[1;33m\u001b[0m\u001b[0m\n\u001b[0m",
      "\u001b[1;31mNameError\u001b[0m: name 'prediction_proba' is not defined"
     ]
    }
   ],
   "source": [
    "st.write(prediction_proba)"
   ]
  },
  {
   "cell_type": "markdown",
   "metadata": {
    "id": "8UW4_11H-XtP"
   },
   "source": [
    "# Запуск веб-приложения"
   ]
  },
  {
   "cell_type": "code",
   "execution_count": null,
   "metadata": {
    "id": "qilm-Xfq-XtP"
   },
   "outputs": [],
   "source": [
    "streamlit run iris-ml-app.py"
   ]
  },
  {
   "cell_type": "code",
   "execution_count": null,
   "metadata": {
    "id": "LsJGGnS9-XtP"
   },
   "outputs": [],
   "source": []
  },
  {
   "cell_type": "markdown",
   "metadata": {
    "id": "fmK2Q-Ed-XtP"
   },
   "source": [
    "## Задание. Развернуть модель для любой задачи"
   ]
  },
  {
   "cell_type": "code",
   "execution_count": null,
   "metadata": {
    "id": "HUQRmZAX-XtP"
   },
   "outputs": [],
   "source": []
  },
  {
   "cell_type": "code",
   "execution_count": null,
   "metadata": {
    "id": "BX6idKxV-XtP"
   },
   "outputs": [],
   "source": []
  },
  {
   "cell_type": "markdown",
   "metadata": {
    "id": "FVk53Owe-XtP"
   },
   "source": [
    "Просмотреть и добавить \n",
    "\n",
    "Создание и развертывание веб-приложений машинного обучения с использованием Pycaret, Streamlit и Heroku   \n",
    "    \n",
    "    https://analyticsindiamag.com/guide-to-building-and-deploying-ml-web-applications-using-pycaret-streamlit-and-heroku/"
   ]
  },
  {
   "cell_type": "markdown",
   "metadata": {
    "id": "KymEAdf3-XtP"
   },
   "source": [
    "Примеры\n",
    "https://leaveprediction.herokuapp.com/\n",
    "    \n",
    "\n",
    "Виджеты для форм \n",
    "\n",
    "https://towardsdatascience.com/how-to-build-interactive-dashboards-in-python-using-streamlit-1198d4f7061b\n",
    "    \n",
    "Установка\n",
    "\n",
    "https://docs.streamlit.io/en/stable/installation.html\n",
    "\n",
    "\n",
    "Пример разработки приложения\n",
    "\n",
    "https://docs.streamlit.io/en/stable/tutorial/create_a_data_explorer_app.html#\n",
    "\n",
    "\n",
    "https://ichi.pro/ru/kak-sozdat-prilozenie-dla-klassifikacii-izobrazenij-s-ispol-zovaniem-logisticeskoj-regressii-i-myslenia-nejronnoj-seti-33604303553365\n",
    "\n",
    "\n",
    "Как развернуть приложение\n",
    "\n",
    "https://docs.streamlit.io/en/stable/deploy_streamlit_app.html\n",
    "\n",
    "https://medium.com/bloggers-bay/give-life-to-your-data-science-apps-using-streamlit-9b61dfe1085d\n",
    "\n",
    "https://nuancesprog.ru/p/5097/\n",
    "\n",
    "https://blog.skillfactory.ru/nauka-o-dannyh-data-science/kak-napisat-veb-prilozhenie-dlya-demonstratsii-data-science-proekta-na-python/\n"
   ]
  }
 ],
 "metadata": {
  "colab": {
   "name": "Lab_Streamlit.ipynb",
   "provenance": []
  },
  "kernelspec": {
   "display_name": "Python 3",
   "language": "python",
   "name": "python3"
  },
  "language_info": {
   "codemirror_mode": {
    "name": "ipython",
    "version": 3
   },
   "file_extension": ".py",
   "mimetype": "text/x-python",
   "name": "python",
   "nbconvert_exporter": "python",
   "pygments_lexer": "ipython3",
   "version": "3.7.3"
  }
 },
 "nbformat": 4,
 "nbformat_minor": 4
}
