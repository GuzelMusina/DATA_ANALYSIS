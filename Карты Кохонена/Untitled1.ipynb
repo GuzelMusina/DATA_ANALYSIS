{
 "cells": [
  {
   "cell_type": "code",
   "execution_count": 6,
   "metadata": {},
   "outputs": [
    {
     "name": "stdout",
     "output_type": "stream",
     "text": [
      "[[1.0 1.0 60 79 60 72 63 1.0]\n",
      " [1.0 0.0 60 61 30 5 17 0.0]\n",
      " [0.0 0.0 60 61 30 66 58 0.0]\n",
      " [1.0 1.0 85 78 72 70 85 1.25]\n",
      " [0.0 1.0 65 78 60 67 65 1.0]\n",
      " [0.0 1.0 60 78 60 67 65 1.0]\n",
      " [0.0 1.0 55 79 56 69 72 0.0]\n",
      " [1.0 0.0 55 56 50 56 60 0.0]\n",
      " [1.0 0.0 55 60 21 64 50 0.0]\n",
      " [1.0 0.0 60 56 30 16 17 0.0]\n",
      " [0.0 1.0 85 89 85 92 85 1.75]\n",
      " [0.0 1.0 60 88 76 66 60 1.25]\n",
      " [1.0 0.0 55 64 0 9 50 0.0]\n",
      " [0.0 1.0 80 83 62 72 72 1.25]\n",
      " [1.0 0.0 55 10 3 8 50 0.0]\n",
      " [0.0 1.0 60 67 57 64 50 0.0]\n",
      " [1.0 1.0 75 98 86 82 85 1.5]\n",
      " [0.0 1.0 85 85 81 85 72 1.25]\n",
      " [1.0 1.0 80 56 50 69 50 0.0]\n",
      " [1.0 0.0 55 60 30 8 60 0.0]]\n",
      "[0.9999997712976278, 5.708276565210647e-08, 0.025099563892164015, 0.43827928587558507, 0.22567258951872313, 0.12614922413274682, 0.4683674893469958, 8.59009116584843e-08]\n",
      "[0.9999999999987063, 3.2290745289874e-13, 0.02884410081527968, 0.44455211061550975, 0.23065957724148653, 0.1423029206704375, 0.4538034957008189, 4.859267813751636e-13]\n",
      "[0.9999999999999998, 2.746992809219867e-17, 0.03265220836736908, 0.45160478669911297, 0.23721130625613837, 0.15844603024014092, 0.439630654049505, 4.133807882915352e-17]\n",
      "[0.9999999999999998, 2.981620752955161e-20, 0.036470721585491396, 0.4591301351760733, 0.2449899065931363, 0.17412343527380983, 0.4259754940013578, 4.4868873813799335e-20]\n",
      "[0.9999999999999998, 3.569749973339764e-22, 0.04022141883908136, 0.4667894030370502, 0.2535728252286276, 0.18882243271713622, 0.41303634698668684, 5.371932729601716e-22]\n",
      "[0.9999999999999998, 4.1402753139358206e-23, 0.04355412796249992, 0.4737033042164417, 0.26183428025438854, 0.20111400937332724, 0.40189828184725146, 6.230486906534099e-23]\n",
      "[0.9999999999999998, 4.1402753139358206e-23, 0.04355412796249992, 0.4737033042164417, 0.26183428025438854, 0.20111400937332724, 0.40189828184725146, 6.230486906534099e-23]\n",
      "[[0, array([1.0, 1.0, 0.16666666666666674, 0.7840909090909091,\n",
      "       0.6976744186046512, 0.7701149425287356, 0.6764705882352942,\n",
      "       0.5714285714285714], dtype=object)], [3, array([1.0, 0.0, 0.16666666666666674, 0.5795454545454546,\n",
      "       0.3488372093023256, 0.0, 0.0, 0.0], dtype=object)], [1, array([0.0, 0.0, 0.16666666666666674, 0.5795454545454546,\n",
      "       0.3488372093023256, 0.7011494252873562, 0.6029411764705882, 0.0],\n",
      "      dtype=object)], [0, array([1.0, 1.0, 1.0000000000000002, 0.7727272727272727,\n",
      "       0.8372093023255813, 0.7471264367816092, 1.0, 0.7142857142857142],\n",
      "      dtype=object)], [0, array([0.0, 1.0, 0.33333333333333326, 0.7727272727272727,\n",
      "       0.6976744186046512, 0.7126436781609194, 0.7058823529411764,\n",
      "       0.5714285714285714], dtype=object)], [0, array([0.0, 1.0, 0.16666666666666674, 0.7727272727272727,\n",
      "       0.6976744186046512, 0.7126436781609194, 0.7058823529411764,\n",
      "       0.5714285714285714], dtype=object)], [0, array([0.0, 1.0, 0.0, 0.7840909090909091, 0.6511627906976745,\n",
      "       0.735632183908046, 0.8088235294117647, 0.0], dtype=object)], [3, array([1.0, 0.0, 0.0, 0.5227272727272727, 0.5813953488372093,\n",
      "       0.5862068965517241, 0.6323529411764706, 0.0], dtype=object)], [3, array([1.0, 0.0, 0.0, 0.5681818181818182, 0.2441860465116279,\n",
      "       0.6781609195402298, 0.48529411764705876, 0.0], dtype=object)], [3, array([1.0, 0.0, 0.16666666666666674, 0.5227272727272727,\n",
      "       0.3488372093023256, 0.12643678160919541, 0.0, 0.0], dtype=object)], [0, array([0.0, 1.0, 1.0000000000000002, 0.8977272727272728,\n",
      "       0.9883720930232558, 1.0, 1.0, 1.0], dtype=object)], [0, array([0.0, 1.0, 0.16666666666666674, 0.8863636363636364,\n",
      "       0.8837209302325582, 0.7011494252873562, 0.6323529411764706,\n",
      "       0.7142857142857142], dtype=object)], [3, array([1.0, 0.0, 0.0, 0.6136363636363636, 0.0, 0.04597701149425287,\n",
      "       0.48529411764705876, 0.0], dtype=object)], [0, array([0.0, 1.0, 0.8333333333333333, 0.8295454545454546,\n",
      "       0.7209302325581395, 0.7701149425287356, 0.8088235294117647,\n",
      "       0.7142857142857142], dtype=object)], [3, array([1.0, 0.0, 0.0, 1.3877787807814457e-17, 0.03488372093023256,\n",
      "       0.034482758620689655, 0.48529411764705876, 0.0], dtype=object)], [0, array([0.0, 1.0, 0.16666666666666674, 0.6477272727272727,\n",
      "       0.6627906976744186, 0.6781609195402298, 0.48529411764705876, 0.0],\n",
      "      dtype=object)], [0, array([1.0, 1.0, 0.6666666666666667, 1.0000000000000002, 1.0,\n",
      "       0.8850574712643677, 1.0, 0.8571428571428571], dtype=object)], [0, array([0.0, 1.0, 1.0000000000000002, 0.8522727272727273,\n",
      "       0.9418604651162791, 0.9195402298850575, 0.8088235294117647,\n",
      "       0.7142857142857142], dtype=object)], [0, array([1.0, 1.0, 0.8333333333333333, 0.5227272727272727,\n",
      "       0.5813953488372093, 0.735632183908046, 0.48529411764705876, 0.0],\n",
      "      dtype=object)], [3, array([1.0, 0.0, 0.0, 0.5681818181818182, 0.3488372093023256,\n",
      "       0.034482758620689655, 0.6323529411764706, 0.0], dtype=object)]]\n"
     ]
    }
   ],
   "source": [
    "import math\n",
    "import random\n",
    "import pandas as pd\n",
    "import numpy as np\n",
    "\n",
    "data = pd.read_csv(\"data.csv\")\n",
    "train_X = data.values[:, 1:]\n",
    "\n",
    "# массивы для хранения коэффициентов для нормировки\n",
    "A = []\n",
    "B = []\n",
    "\n",
    "#случайные значения\n",
    "W = []\n",
    "K=4\n",
    "M=len(train_X)\n",
    "N = len(train_X[0])\n",
    "\n",
    "la = 0.3 # коэффициент обучения\n",
    "dla = 0.05 # уменьшение коэффициента обучения\n",
    "epochs = 6\n",
    "arr_for_paint=[]\n",
    "\n",
    "\n",
    "for i in range(len(train_X)):\n",
    "    if train_X[i][0] == 'm':\n",
    "        train_X[i][0]= 1.00\n",
    "    else:\n",
    "        train_X[i][0]= 0.00\n",
    "        \n",
    "for i in range(len(train_X)):    \n",
    "    if train_X[i][1] == 'yes':\n",
    "        train_X[i][1]= 1.00\n",
    "    else:\n",
    "        train_X[i][1]= 0.00\n",
    "print(train_X)\n",
    "    # нормировка исходных данных\n",
    "for i in range(len(train_X[0])):\n",
    "    max_ = float(train_X[0][i])\n",
    "    min_ = float(train_X[0][i])\n",
    "    for j in range(len(train_X)):\n",
    "        train_X[j][i] = float(train_X[j][i])\n",
    "        if abs(train_X[j][i]) > max_:\n",
    "            max_ = abs(train_X[j][i])\n",
    "        else:\n",
    "            if abs(train_X[j][i]) < min_:\n",
    "                min_ = abs(train_X[j][i])\n",
    "    # коэффициенты нормирования\n",
    "    a = 1 / (max_- min_)\n",
    "    b = -min_ / (max_ - min_)\n",
    "    # сохранить коэффициенты    \n",
    "    A.append(a)\n",
    "    B.append(b)\n",
    "    # нормировать    \n",
    "    for j in range(len(data)):\n",
    "        train_X[j][i] = a * train_X[j][i] + b\n",
    "\n",
    "# получить случайное значение для инициализирования весов       \n",
    "def get_w():\n",
    "    z = random.random() * (2.0 / math.sqrt(M))\n",
    "    return 0.5 - (1 / math.sqrt(M)) + z\n",
    "    \n",
    "# инициализировать веса\n",
    "for i in range(K):\n",
    "    W.append([])\n",
    "    for j in range(N):\n",
    "        W[i].append(get_w() * 0.5)\n",
    "        \n",
    "# расстояние между векторами\n",
    "def rho(w, x, dest):\n",
    "    r = 0\n",
    "    #эвклидово расстояние\n",
    "    if dest == 0:\n",
    "        for i in range(len(w)):\n",
    "            r = r + (w[i] - x[i])*(w[i] - x[i])\n",
    "        r = math.sqrt(r)\n",
    "    # квадрат эвклидова расстояния\n",
    "    elif dest == 1:\n",
    "        for i in range(len(w)):\n",
    "            r = r + (w[i] - x[i])*(w[i] - x[i])\n",
    "        r = r*r\n",
    "     # манхэтэнское расстояния\n",
    "    elif dest == 2:\n",
    "        for i in range(len(w)):\n",
    "            r = r + abs((w[i] - x[i])*(w[i] - x[i]))\n",
    "      # чэбышева\n",
    "    elif dest == 3:\n",
    "        for i in range(len(w)):\n",
    "            max = 0\n",
    "            r = abs(w[i] - x[i])*(w[i] - x[i])\n",
    "            if r > max:\n",
    "                max = r\n",
    "        r = max\n",
    "    return r\n",
    "\n",
    "# поиск ближайшего вектора \n",
    "def FindNear(W, x):\n",
    "    wm = W[0]\n",
    "    r = rho(wm, x, 2)\n",
    "    i = 0\n",
    "    i_n = i\n",
    "    for w in W:\n",
    "        if rho(w, x, 2) < r:\n",
    "            r = rho(w, x, 2)\n",
    "            wm = w\n",
    "            i_n = i\n",
    "        i = i + 1\n",
    "    return (wm, i_n)\n",
    "\n",
    "def fit(la, train_X, W):\n",
    "    Wk =[]\n",
    "    # начать процесс обучения\n",
    "    while la >= 0:\n",
    "        for k in range(epochs): \n",
    "            for x in train_X:\n",
    "                wm = FindNear(W, x)[0]\n",
    "                for i in range(len(wm)):\n",
    "                    wm[i] = wm[i] + la * (x[i] - wm[i]) # корректировка весов\n",
    "                    arr_for_paint.append(wm)\n",
    "        print(wm) \n",
    "        la = la - dla # уменьшение коэффициента обучения\n",
    "    return wm\n",
    "fit(la, train_X, W)\n",
    "\n",
    "# массив для денормированных весов\n",
    "WX = list() \n",
    "    \n",
    "# денормировать веса\n",
    "for i in range(K):\n",
    "    WX.append(list())\n",
    "    for j in range(N):\n",
    "        WX[i].append((W[i][j] - B[j]) / A[j])\n",
    "    \n",
    "# print(WX) # печать денормированных весов\n",
    "\n",
    "# создать классы     \n",
    "Data = list() \n",
    "\n",
    "for i in range(len(W)):\n",
    "    Data.append(list())\n",
    "\n",
    "# отнести исходные данные к своему классу    \n",
    "DS = list()\n",
    "i = 0\n",
    "for x in train_X:\n",
    "    i_n = FindNear(W, x)[1]\n",
    "    Data[i_n].append(x)\n",
    "    DS.append([i_n, train_X[i]])\n",
    "    i = i + 1\n",
    "    \n",
    "print(DS)"
   ]
  },
  {
   "cell_type": "code",
   "execution_count": 7,
   "metadata": {},
   "outputs": [],
   "source": [
    "result = pd.DataFrame(DS)"
   ]
  },
  {
   "cell_type": "code",
   "execution_count": 8,
   "metadata": {},
   "outputs": [],
   "source": [
    "middle_result = []\n",
    "middle_result.append(1)"
   ]
  },
  {
   "cell_type": "code",
   "execution_count": 9,
   "metadata": {},
   "outputs": [],
   "source": [
    "middle_result[0] = middle_result[0]+1"
   ]
  },
  {
   "cell_type": "code",
   "execution_count": 10,
   "metadata": {},
   "outputs": [
    {
     "data": {
      "text/plain": [
       "[2]"
      ]
     },
     "execution_count": 10,
     "metadata": {},
     "output_type": "execute_result"
    }
   ],
   "source": [
    "middle_result"
   ]
  },
  {
   "cell_type": "code",
   "execution_count": null,
   "metadata": {},
   "outputs": [],
   "source": []
  },
  {
   "cell_type": "code",
   "execution_count": 11,
   "metadata": {},
   "outputs": [
    {
     "name": "stdout",
     "output_type": "stream",
     "text": [
      "[0.6, 0.05, 0.0, 0.35]\n",
      "['М_да', 'Ж_нет', '', 'М_нет']\n"
     ]
    }
   ],
   "source": [
    "res = [0,0,0,0]\n",
    "des = ['','','','']\n",
    "for i in range(len(DS)):\n",
    "    if DS[i][0] == 0:\n",
    "        res[0]+=1\n",
    "        if DS[i][1][0] == 1.0 and DS[i][1][1] == 1.0:\n",
    "            des[0] = 'М_да'\n",
    "        elif DS[i][1][0] == 1.0 and DS[i][1][1] == 0.0:\n",
    "            des[0] = 'М_нет'\n",
    "        elif DS[i][1][0] == 0.0 and DS[i][1][1] == 0.0:\n",
    "            des[0] = 'Ж_нет'\n",
    "        elif DS[i][1][0] == 0.0 and DS[i][1][1] == 1.0:\n",
    "            des[0] = 'Ж_да'\n",
    "    elif DS[i][0] == 1:\n",
    "        res[1]+=1\n",
    "        if DS[i][1][0] == 1.0 and DS[i][1][1] == 1.0:\n",
    "            des[1] = 'М_да'\n",
    "        elif DS[i][1][0] == 1.0 and DS[i][1][1] == 0.0:\n",
    "            des[1] = 'М_нет'\n",
    "        elif DS[i][1][0] == 0.0 and DS[i][1][1] == 0.0:\n",
    "            des[1] = 'Ж_нет'\n",
    "        elif DS[i][1][0] == 0.0 and DS[i][1][1] == 1.0:\n",
    "            des[1] = 'Ж_да'\n",
    "    elif DS[i][0] == 2:\n",
    "        res[2]+=1\n",
    "        if DS[i][1][0] == 1.0 and DS[i][1][1] == 1.0:\n",
    "            des[2] = 'М_да'\n",
    "        elif DS[i][1][0] == 1.0 and DS[i][1][1] == 0.0:\n",
    "            des[2] = 'М_нет'\n",
    "        elif DS[i][1][0] == 0.0 and DS[i][1][1] == 0.0:\n",
    "            des[2] = 'Ж_нет'\n",
    "        elif DS[i][1][0] == 0.0 and DS[i][1][1] == 1.0:\n",
    "            des[2] = 'Ж_да'\n",
    "    elif DS[i][0] == 3:\n",
    "        res[3]+=1\n",
    "        if DS[i][1][0] == 1.0 and DS[i][1][1] == 1.0:\n",
    "            des[3] = 'М_да'\n",
    "        elif DS[i][1][0] == 1.0 and DS[i][1][1] == 0.0:\n",
    "            des[3] = 'М_нет'\n",
    "        elif DS[i][1][0] == 0.0 and DS[i][1][1] == 0.0:\n",
    "            des[3] = 'Ж_нет'\n",
    "        elif DS[i][1][0] == 0.0 and DS[i][1][1] == 1.0:\n",
    "            des[3] = 'Ж_да'\n",
    "for i in range(len(res)):\n",
    "    res[i] = res[i]/len(DS)\n",
    "\n",
    "print(res)\n",
    "print(des)"
   ]
  },
  {
   "cell_type": "code",
   "execution_count": 12,
   "metadata": {},
   "outputs": [
    {
     "ename": "SyntaxError",
     "evalue": "invalid syntax (<ipython-input-12-c84b365e1e31>, line 2)",
     "output_type": "error",
     "traceback": [
      "\u001b[1;36m  File \u001b[1;32m\"<ipython-input-12-c84b365e1e31>\"\u001b[1;36m, line \u001b[1;32m2\u001b[0m\n\u001b[1;33m    if DS[i][1][0] == 1.0 && DS[i][1][1] == 1.0:\u001b[0m\n\u001b[1;37m                           ^\u001b[0m\n\u001b[1;31mSyntaxError\u001b[0m\u001b[1;31m:\u001b[0m invalid syntax\n"
     ]
    }
   ],
   "source": [
    "\n",
    "for i in range(len(DS)):\n",
    "    if DS[i][1][0] == 1.0 && DS[i][1][1] == 1.0:\n",
    "        \n",
    "        res[0]+=1\n",
    "    elif DS[i][0] == 1:\n",
    "        res[1]+=1\n",
    "    elif DS[i][0] == 2:\n",
    "        res[2]+=1\n",
    "    elif DS[i][0] == 3:\n",
    "        res[3]+=1\n",
    "for i in range(len(res)):\n",
    "    res[i] = res[i]/len(DS)\n"
   ]
  },
  {
   "cell_type": "code",
   "execution_count": 13,
   "metadata": {},
   "outputs": [
    {
     "name": "stdout",
     "output_type": "stream",
     "text": [
      "    0                                                  1\n",
      "0   0  [1.0, 1.0, 0.16666666666666674, 0.784090909090...\n",
      "1   3  [1.0, 0.0, 0.16666666666666674, 0.579545454545...\n",
      "2   1  [0.0, 0.0, 0.16666666666666674, 0.579545454545...\n",
      "3   0  [1.0, 1.0, 1.0000000000000002, 0.7727272727272...\n",
      "4   0  [0.0, 1.0, 0.33333333333333326, 0.772727272727...\n",
      "5   0  [0.0, 1.0, 0.16666666666666674, 0.772727272727...\n",
      "6   0  [0.0, 1.0, 0.0, 0.7840909090909091, 0.65116279...\n",
      "7   3  [1.0, 0.0, 0.0, 0.5227272727272727, 0.58139534...\n",
      "8   3  [1.0, 0.0, 0.0, 0.5681818181818182, 0.24418604...\n",
      "9   3  [1.0, 0.0, 0.16666666666666674, 0.522727272727...\n",
      "10  0  [0.0, 1.0, 1.0000000000000002, 0.8977272727272...\n",
      "11  0  [0.0, 1.0, 0.16666666666666674, 0.886363636363...\n",
      "12  3  [1.0, 0.0, 0.0, 0.6136363636363636, 0.0, 0.045...\n",
      "13  0  [0.0, 1.0, 0.8333333333333333, 0.8295454545454...\n",
      "14  3  [1.0, 0.0, 0.0, 1.3877787807814457e-17, 0.0348...\n",
      "15  0  [0.0, 1.0, 0.16666666666666674, 0.647727272727...\n",
      "16  0  [1.0, 1.0, 0.6666666666666667, 1.0000000000000...\n",
      "17  0  [0.0, 1.0, 1.0000000000000002, 0.8522727272727...\n",
      "18  0  [1.0, 1.0, 0.8333333333333333, 0.5227272727272...\n",
      "19  3  [1.0, 0.0, 0.0, 0.5681818181818182, 0.34883720...\n"
     ]
    }
   ],
   "source": [
    "print(result)"
   ]
  },
  {
   "cell_type": "code",
   "execution_count": 14,
   "metadata": {},
   "outputs": [],
   "source": [
    "X = data['id']\n",
    "Y= data['cof']\n",
    "C = result[0]"
   ]
  },
  {
   "cell_type": "code",
   "execution_count": 16,
   "metadata": {},
   "outputs": [
    {
     "data": {
      "image/png": "[encoded data removed]",
      "text/plain": [
       "<Figure size 432x288 with 1 Axes>"
      ]
     },
     "metadata": {
      "needs_background": "light"
     },
     "output_type": "display_data"
    }
   ],
   "source": [
    "import matplotlib.pyplot as plt\n",
    "plt.scatter(X, C, c=C, cmap=plt.cm.Paired)\n",
    "plt.show()"
   ]
  },
  {
   "cell_type": "code",
   "execution_count": 33,
   "metadata": {},
   "outputs": [
    {
     "data": {
      "application/vnd.plotly.v1+json": {
       "config": {
        "plotlyServerURL": "https://plot.ly"
       },
       "data": [
        {
         "hovertemplate": "id=%{x}<br>y=%{y}<br>color=%{marker.color}<extra></extra>",
         "legendgroup": "",
         "marker": {
          "color": [
           0,
           1,
           2,
           0,
           0,
           0,
           0,
           1,
           1,
           1,
           0,
           0,
           1,
           0,
           1,
           0,
           0,
           0,
           0,
           1
          ],
          "coloraxis": "coloraxis",
          "symbol": "circle"
         },
         "mode": "markers",
         "name": "",
         "orientation": "v",
         "showlegend": false,
         "type": "scatter",
         "x": [
          1,
          2,
          3,
          4,
          5,
          6,
          7,
          8,
          9,
          10,
          11,
          12,
          13,
          14,
          15,
          16,
          17,
          18,
          19,
          20
         ],
         "xaxis": "x",
         "y": [
          0,
          1,
          2,
          0,
          0,
          0,
          0,
          1,
          1,
          1,
          0,
          0,
          1,
          0,
          1,
          0,
          0,
          0,
          0,
          1
         ],
         "yaxis": "y"
        }
       ],
       "layout": {
        "coloraxis": {
         "colorbar": {
          "title": {
           "text": "color"
          }
         },
         "colorscale": [
          [
           0,
           "#0d0887"
          ],
          [
           0.1111111111111111,
           "#46039f"
          ],
          [
           0.2222222222222222,
           "#7201a8"
          ],
          [
           0.3333333333333333,
           "#9c179e"
          ],
          [
           0.4444444444444444,
           "#bd3786"
          ],
          [
           0.5555555555555556,
           "#d8576b"
          ],
          [
           0.6666666666666666,
           "#ed7953"
          ],
          [
           0.7777777777777778,
           "#fb9f3a"
          ],
          [
           0.8888888888888888,
           "#fdca26"
          ],
          [
           1,
           "#f0f921"
          ]
         ]
        },
        "legend": {
         "tracegroupgap": 0
        },
        "margin": {
         "t": 60
        },
        "template": {
         "data": {
          "bar": [
           {
            "error_x": {
             "color": "#2a3f5f"
            },
            "error_y": {
             "color": "#2a3f5f"
            },
            "marker": {
             "line": {
              "color": "#E5ECF6",
              "width": 0.5
             }
            },
            "type": "bar"
           }
          ],
          "barpolar": [
           {
            "marker": {
             "line": {
              "color": "#E5ECF6",
              "width": 0.5
             }
            },
            "type": "barpolar"
           }
          ],
          "carpet": [
           {
            "aaxis": {
             "endlinecolor": "#2a3f5f",
             "gridcolor": "white",
             "linecolor": "white",
             "minorgridcolor": "white",
             "startlinecolor": "#2a3f5f"
            },
            "baxis": {
             "endlinecolor": "#2a3f5f",
             "gridcolor": "white",
             "linecolor": "white",
             "minorgridcolor": "white",
             "startlinecolor": "#2a3f5f"
            },
            "type": "carpet"
           }
          ],
          "choropleth": [
           {
            "colorbar": {
             "outlinewidth": 0,
             "ticks": ""
            },
            "type": "choropleth"
           }
          ],
          "contour": [
           {
            "colorbar": {
             "outlinewidth": 0,
             "ticks": ""
            },
            "colorscale": [
             [
              0,
              "#0d0887"
             ],
             [
              0.1111111111111111,
              "#46039f"
             ],
             [
              0.2222222222222222,
              "#7201a8"
             ],
             [
              0.3333333333333333,
              "#9c179e"
             ],
             [
              0.4444444444444444,
              "#bd3786"
             ],
             [
              0.5555555555555556,
              "#d8576b"
             ],
             [
              0.6666666666666666,
              "#ed7953"
             ],
             [
              0.7777777777777778,
              "#fb9f3a"
             ],
             [
              0.8888888888888888,
              "#fdca26"
             ],
             [
              1,
              "#f0f921"
             ]
            ],
            "type": "contour"
           }
          ],
          "contourcarpet": [
           {
            "colorbar": {
             "outlinewidth": 0,
             "ticks": ""
            },
            "type": "contourcarpet"
           }
          ],
          "heatmap": [
           {
            "colorbar": {
             "outlinewidth": 0,
             "ticks": ""
            },
            "colorscale": [
             [
              0,
              "#0d0887"
             ],
             [
              0.1111111111111111,
              "#46039f"
             ],
             [
              0.2222222222222222,
              "#7201a8"
             ],
             [
              0.3333333333333333,
              "#9c179e"
             ],
             [
              0.4444444444444444,
              "#bd3786"
             ],
             [
              0.5555555555555556,
              "#d8576b"
             ],
             [
              0.6666666666666666,
              "#ed7953"
             ],
             [
              0.7777777777777778,
              "#fb9f3a"
             ],
             [
              0.8888888888888888,
              "#fdca26"
             ],
             [
              1,
              "#f0f921"
             ]
            ],
            "type": "heatmap"
           }
          ],
          "heatmapgl": [
           {
            "colorbar": {
             "outlinewidth": 0,
             "ticks": ""
            },
            "colorscale": [
             [
              0,
              "#0d0887"
             ],
             [
              0.1111111111111111,
              "#46039f"
             ],
             [
              0.2222222222222222,
              "#7201a8"
             ],
             [
              0.3333333333333333,
              "#9c179e"
             ],
             [
              0.4444444444444444,
              "#bd3786"
             ],
             [
              0.5555555555555556,
              "#d8576b"
             ],
             [
              0.6666666666666666,
              "#ed7953"
             ],
             [
              0.7777777777777778,
              "#fb9f3a"
             ],
             [
              0.8888888888888888,
              "#fdca26"
             ],
             [
              1,
              "#f0f921"
             ]
            ],
            "type": "heatmapgl"
           }
          ],
          "histogram": [
           {
            "marker": {
             "colorbar": {
              "outlinewidth": 0,
              "ticks": ""
             }
            },
            "type": "histogram"
           }
          ],
          "histogram2d": [
           {
            "colorbar": {
             "outlinewidth": 0,
             "ticks": ""
            },
            "colorscale": [
             [
              0,
              "#0d0887"
             ],
             [
              0.1111111111111111,
              "#46039f"
             ],
             [
              0.2222222222222222,
              "#7201a8"
             ],
             [
              0.3333333333333333,
              "#9c179e"
             ],
             [
              0.4444444444444444,
              "#bd3786"
             ],
             [
              0.5555555555555556,
              "#d8576b"
             ],
             [
              0.6666666666666666,
              "#ed7953"
             ],
             [
              0.7777777777777778,
              "#fb9f3a"
             ],
             [
              0.8888888888888888,
              "#fdca26"
             ],
             [
              1,
              "#f0f921"
             ]
            ],
            "type": "histogram2d"
           }
          ],
          "histogram2dcontour": [
           {
            "colorbar": {
             "outlinewidth": 0,
             "ticks": ""
            },
            "colorscale": [
             [
              0,
              "#0d0887"
             ],
             [
              0.1111111111111111,
              "#46039f"
             ],
             [
              0.2222222222222222,
              "#7201a8"
             ],
             [
              0.3333333333333333,
              "#9c179e"
             ],
             [
              0.4444444444444444,
              "#bd3786"
             ],
             [
              0.5555555555555556,
              "#d8576b"
             ],
             [
              0.6666666666666666,
              "#ed7953"
             ],
             [
              0.7777777777777778,
              "#fb9f3a"
             ],
             [
              0.8888888888888888,
              "#fdca26"
             ],
             [
              1,
              "#f0f921"
             ]
            ],
            "type": "histogram2dcontour"
           }
          ],
          "mesh3d": [
           {
            "colorbar": {
             "outlinewidth": 0,
             "ticks": ""
            },
            "type": "mesh3d"
           }
          ],
          "parcoords": [
           {
            "line": {
             "colorbar": {
              "outlinewidth": 0,
              "ticks": ""
             }
            },
            "type": "parcoords"
           }
          ],
          "pie": [
           {
            "automargin": true,
            "type": "pie"
           }
          ],
          "scatter": [
           {
            "marker": {
             "colorbar": {
              "outlinewidth": 0,
              "ticks": ""
             }
            },
            "type": "scatter"
           }
          ],
          "scatter3d": [
           {
            "line": {
             "colorbar": {
              "outlinewidth": 0,
              "ticks": ""
             }
            },
            "marker": {
             "colorbar": {
              "outlinewidth": 0,
              "ticks": ""
             }
            },
            "type": "scatter3d"
           }
          ],
          "scattercarpet": [
           {
            "marker": {
             "colorbar": {
              "outlinewidth": 0,
              "ticks": ""
             }
            },
            "type": "scattercarpet"
           }
          ],
          "scattergeo": [
           {
            "marker": {
             "colorbar": {
              "outlinewidth": 0,
              "ticks": ""
             }
            },
            "type": "scattergeo"
           }
          ],
          "scattergl": [
           {
            "marker": {
             "colorbar": {
              "outlinewidth": 0,
              "ticks": ""
             }
            },
            "type": "scattergl"
           }
          ],
          "scattermapbox": [
           {
            "marker": {
             "colorbar": {
              "outlinewidth": 0,
              "ticks": ""
             }
            },
            "type": "scattermapbox"
           }
          ],
          "scatterpolar": [
           {
            "marker": {
             "colorbar": {
              "outlinewidth": 0,
              "ticks": ""
             }
            },
            "type": "scatterpolar"
           }
          ],
          "scatterpolargl": [
           {
            "marker": {
             "colorbar": {
              "outlinewidth": 0,
              "ticks": ""
             }
            },
            "type": "scatterpolargl"
           }
          ],
          "scatterternary": [
           {
            "marker": {
             "colorbar": {
              "outlinewidth": 0,
              "ticks": ""
             }
            },
            "type": "scatterternary"
           }
          ],
          "surface": [
           {
            "colorbar": {
             "outlinewidth": 0,
             "ticks": ""
            },
            "colorscale": [
             [
              0,
              "#0d0887"
             ],
             [
              0.1111111111111111,
              "#46039f"
             ],
             [
              0.2222222222222222,
              "#7201a8"
             ],
             [
              0.3333333333333333,
              "#9c179e"
             ],
             [
              0.4444444444444444,
              "#bd3786"
             ],
             [
              0.5555555555555556,
              "#d8576b"
             ],
             [
              0.6666666666666666,
              "#ed7953"
             ],
             [
              0.7777777777777778,
              "#fb9f3a"
             ],
             [
              0.8888888888888888,
              "#fdca26"
             ],
             [
              1,
              "#f0f921"
             ]
            ],
            "type": "surface"
           }
          ],
          "table": [
           {
            "cells": {
             "fill": {
              "color": "#EBF0F8"
             },
             "line": {
              "color": "white"
             }
            },
            "header": {
             "fill": {
              "color": "#C8D4E3"
             },
             "line": {
              "color": "white"
             }
            },
            "type": "table"
           }
          ]
         },
         "layout": {
          "annotationdefaults": {
           "arrowcolor": "#2a3f5f",
           "arrowhead": 0,
           "arrowwidth": 1
          },
          "coloraxis": {
           "colorbar": {
            "outlinewidth": 0,
            "ticks": ""
           }
          },
          "colorscale": {
           "diverging": [
            [
             0,
             "#8e0152"
            ],
            [
             0.1,
             "#c51b7d"
            ],
            [
             0.2,
             "#de77ae"
            ],
            [
             0.3,
             "#f1b6da"
            ],
            [
             0.4,
             "#fde0ef"
            ],
            [
             0.5,
             "#f7f7f7"
            ],
            [
             0.6,
             "#e6f5d0"
            ],
            [
             0.7,
             "#b8e186"
            ],
            [
             0.8,
             "#7fbc41"
            ],
            [
             0.9,
             "#4d9221"
            ],
            [
             1,
             "#276419"
            ]
           ],
           "sequential": [
            [
             0,
             "#0d0887"
            ],
            [
             0.1111111111111111,
             "#46039f"
            ],
            [
             0.2222222222222222,
             "#7201a8"
            ],
            [
             0.3333333333333333,
             "#9c179e"
            ],
            [
             0.4444444444444444,
             "#bd3786"
            ],
            [
             0.5555555555555556,
             "#d8576b"
            ],
            [
             0.6666666666666666,
             "#ed7953"
            ],
            [
             0.7777777777777778,
             "#fb9f3a"
            ],
            [
             0.8888888888888888,
             "#fdca26"
            ],
            [
             1,
             "#f0f921"
            ]
           ],
           "sequentialminus": [
            [
             0,
             "#0d0887"
            ],
            [
             0.1111111111111111,
             "#46039f"
            ],
            [
             0.2222222222222222,
             "#7201a8"
            ],
            [
             0.3333333333333333,
             "#9c179e"
            ],
            [
             0.4444444444444444,
             "#bd3786"
            ],
            [
             0.5555555555555556,
             "#d8576b"
            ],
            [
             0.6666666666666666,
             "#ed7953"
            ],
            [
             0.7777777777777778,
             "#fb9f3a"
            ],
            [
             0.8888888888888888,
             "#fdca26"
            ],
            [
             1,
             "#f0f921"
            ]
           ]
          },
          "colorway": [
           "#636efa",
           "#EF553B",
           "#00cc96",
           "#ab63fa",
           "#FFA15A",
           "#19d3f3",
           "#FF6692",
           "#B6E880",
           "#FF97FF",
           "#FECB52"
          ],
          "font": {
           "color": "#2a3f5f"
          },
          "geo": {
           "bgcolor": "white",
           "lakecolor": "white",
           "landcolor": "#E5ECF6",
           "showlakes": true,
           "showland": true,
           "subunitcolor": "white"
          },
          "hoverlabel": {
           "align": "left"
          },
          "hovermode": "closest",
          "mapbox": {
           "style": "light"
          },
          "paper_bgcolor": "white",
          "plot_bgcolor": "#E5ECF6",
          "polar": {
           "angularaxis": {
            "gridcolor": "white",
            "linecolor": "white",
            "ticks": ""
           },
           "bgcolor": "#E5ECF6",
           "radialaxis": {
            "gridcolor": "white",
            "linecolor": "white",
            "ticks": ""
           }
          },
          "scene": {
           "xaxis": {
            "backgroundcolor": "#E5ECF6",
            "gridcolor": "white",
            "gridwidth": 2,
            "linecolor": "white",
            "showbackground": true,
            "ticks": "",
            "zerolinecolor": "white"
           },
           "yaxis": {
            "backgroundcolor": "#E5ECF6",
            "gridcolor": "white",
            "gridwidth": 2,
            "linecolor": "white",
            "showbackground": true,
            "ticks": "",
            "zerolinecolor": "white"
           },
           "zaxis": {
            "backgroundcolor": "#E5ECF6",
            "gridcolor": "white",
            "gridwidth": 2,
            "linecolor": "white",
            "showbackground": true,
            "ticks": "",
            "zerolinecolor": "white"
           }
          },
          "shapedefaults": {
           "line": {
            "color": "#2a3f5f"
           }
          },
          "ternary": {
           "aaxis": {
            "gridcolor": "white",
            "linecolor": "white",
            "ticks": ""
           },
           "baxis": {
            "gridcolor": "white",
            "linecolor": "white",
            "ticks": ""
           },
           "bgcolor": "#E5ECF6",
           "caxis": {
            "gridcolor": "white",
            "linecolor": "white",
            "ticks": ""
           }
          },
          "title": {
           "x": 0.05
          },
          "xaxis": {
           "automargin": true,
           "gridcolor": "white",
           "linecolor": "white",
           "ticks": "",
           "title": {
            "standoff": 15
           },
           "zerolinecolor": "white",
           "zerolinewidth": 2
          },
          "yaxis": {
           "automargin": true,
           "gridcolor": "white",
           "linecolor": "white",
           "ticks": "",
           "title": {
            "standoff": 15
           },
           "zerolinecolor": "white",
           "zerolinewidth": 2
          }
         }
        },
        "xaxis": {
         "anchor": "y",
         "domain": [
          0,
          1
         ],
         "title": {
          "text": "id"
         }
        },
        "yaxis": {
         "anchor": "x",
         "domain": [
          0,
          1
         ],
         "title": {
          "text": "y"
         }
        }
       }
      },
      "text/html": [
       "<div>                            <div id=\"2b824de8-26d9-4376-a4e5-538d345aaede\" class=\"plotly-graph-div\" style=\"height:525px; width:100%;\"></div>            <script type=\"text/javascript\">                require([\"plotly\"], function(Plotly) {                    window.PLOTLYENV=window.PLOTLYENV || {};                                    if (document.getElementById(\"2b824de8-26d9-4376-a4e5-538d345aaede\")) {                    Plotly.newPlot(                        \"2b824de8-26d9-4376-a4e5-538d345aaede\",                        [{\"hovertemplate\": \"id=%{x}<br>y=%{y}<br>color=%{marker.color}<extra></extra>\", \"legendgroup\": \"\", \"marker\": {\"color\": [0, 1, 2, 0, 0, 0, 0, 1, 1, 1, 0, 0, 1, 0, 1, 0, 0, 0, 0, 1], \"coloraxis\": \"coloraxis\", \"symbol\": \"circle\"}, \"mode\": \"markers\", \"name\": \"\", \"orientation\": \"v\", \"showlegend\": false, \"type\": \"scatter\", \"x\": [1, 2, 3, 4, 5, 6, 7, 8, 9, 10, 11, 12, 13, 14, 15, 16, 17, 18, 19, 20], \"xaxis\": \"x\", \"y\": [0, 1, 2, 0, 0, 0, 0, 1, 1, 1, 0, 0, 1, 0, 1, 0, 0, 0, 0, 1], \"yaxis\": \"y\"}],                        {\"coloraxis\": {\"colorbar\": {\"title\": {\"text\": \"color\"}}, \"colorscale\": [[0.0, \"#0d0887\"], [0.1111111111111111, \"#46039f\"], [0.2222222222222222, \"#7201a8\"], [0.3333333333333333, \"#9c179e\"], [0.4444444444444444, \"#bd3786\"], [0.5555555555555556, \"#d8576b\"], [0.6666666666666666, \"#ed7953\"], [0.7777777777777778, \"#fb9f3a\"], [0.8888888888888888, \"#fdca26\"], [1.0, \"#f0f921\"]]}, \"legend\": {\"tracegroupgap\": 0}, \"margin\": {\"t\": 60}, \"template\": {\"data\": {\"bar\": [{\"error_x\": {\"color\": \"#2a3f5f\"}, \"error_y\": {\"color\": \"#2a3f5f\"}, \"marker\": {\"line\": {\"color\": \"#E5ECF6\", \"width\": 0.5}}, \"type\": \"bar\"}], \"barpolar\": [{\"marker\": {\"line\": {\"color\": \"#E5ECF6\", \"width\": 0.5}}, \"type\": \"barpolar\"}], \"carpet\": [{\"aaxis\": {\"endlinecolor\": \"#2a3f5f\", \"gridcolor\": \"white\", \"linecolor\": \"white\", \"minorgridcolor\": \"white\", \"startlinecolor\": \"#2a3f5f\"}, \"baxis\": {\"endlinecolor\": \"#2a3f5f\", \"gridcolor\": \"white\", \"linecolor\": \"white\", \"minorgridcolor\": \"white\", \"startlinecolor\": \"#2a3f5f\"}, \"type\": \"carpet\"}], \"choropleth\": [{\"colorbar\": {\"outlinewidth\": 0, \"ticks\": \"\"}, \"type\": \"choropleth\"}], \"contour\": [{\"colorbar\": {\"outlinewidth\": 0, \"ticks\": \"\"}, \"colorscale\": [[0.0, \"#0d0887\"], [0.1111111111111111, \"#46039f\"], [0.2222222222222222, \"#7201a8\"], [0.3333333333333333, \"#9c179e\"], [0.4444444444444444, \"#bd3786\"], [0.5555555555555556, \"#d8576b\"], [0.6666666666666666, \"#ed7953\"], [0.7777777777777778, \"#fb9f3a\"], [0.8888888888888888, \"#fdca26\"], [1.0, \"#f0f921\"]], \"type\": \"contour\"}], \"contourcarpet\": [{\"colorbar\": {\"outlinewidth\": 0, \"ticks\": \"\"}, \"type\": \"contourcarpet\"}], \"heatmap\": [{\"colorbar\": {\"outlinewidth\": 0, \"ticks\": \"\"}, \"colorscale\": [[0.0, \"#0d0887\"], [0.1111111111111111, \"#46039f\"], [0.2222222222222222, \"#7201a8\"], [0.3333333333333333, \"#9c179e\"], [0.4444444444444444, \"#bd3786\"], [0.5555555555555556, \"#d8576b\"], [0.6666666666666666, \"#ed7953\"], [0.7777777777777778, \"#fb9f3a\"], [0.8888888888888888, \"#fdca26\"], [1.0, \"#f0f921\"]], \"type\": \"heatmap\"}], \"heatmapgl\": [{\"colorbar\": {\"outlinewidth\": 0, \"ticks\": \"\"}, \"colorscale\": [[0.0, \"#0d0887\"], [0.1111111111111111, \"#46039f\"], [0.2222222222222222, \"#7201a8\"], [0.3333333333333333, \"#9c179e\"], [0.4444444444444444, \"#bd3786\"], [0.5555555555555556, \"#d8576b\"], [0.6666666666666666, \"#ed7953\"], [0.7777777777777778, \"#fb9f3a\"], [0.8888888888888888, \"#fdca26\"], [1.0, \"#f0f921\"]], \"type\": \"heatmapgl\"}], \"histogram\": [{\"marker\": {\"colorbar\": {\"outlinewidth\": 0, \"ticks\": \"\"}}, \"type\": \"histogram\"}], \"histogram2d\": [{\"colorbar\": {\"outlinewidth\": 0, \"ticks\": \"\"}, \"colorscale\": [[0.0, \"#0d0887\"], [0.1111111111111111, \"#46039f\"], [0.2222222222222222, \"#7201a8\"], [0.3333333333333333, \"#9c179e\"], [0.4444444444444444, \"#bd3786\"], [0.5555555555555556, \"#d8576b\"], [0.6666666666666666, \"#ed7953\"], [0.7777777777777778, \"#fb9f3a\"], [0.8888888888888888, \"#fdca26\"], [1.0, \"#f0f921\"]], \"type\": \"histogram2d\"}], \"histogram2dcontour\": [{\"colorbar\": {\"outlinewidth\": 0, \"ticks\": \"\"}, \"colorscale\": [[0.0, \"#0d0887\"], [0.1111111111111111, \"#46039f\"], [0.2222222222222222, \"#7201a8\"], [0.3333333333333333, \"#9c179e\"], [0.4444444444444444, \"#bd3786\"], [0.5555555555555556, \"#d8576b\"], [0.6666666666666666, \"#ed7953\"], [0.7777777777777778, \"#fb9f3a\"], [0.8888888888888888, \"#fdca26\"], [1.0, \"#f0f921\"]], \"type\": \"histogram2dcontour\"}], \"mesh3d\": [{\"colorbar\": {\"outlinewidth\": 0, \"ticks\": \"\"}, \"type\": \"mesh3d\"}], \"parcoords\": [{\"line\": {\"colorbar\": {\"outlinewidth\": 0, \"ticks\": \"\"}}, \"type\": \"parcoords\"}], \"pie\": [{\"automargin\": true, \"type\": \"pie\"}], \"scatter\": [{\"marker\": {\"colorbar\": {\"outlinewidth\": 0, \"ticks\": \"\"}}, \"type\": \"scatter\"}], \"scatter3d\": [{\"line\": {\"colorbar\": {\"outlinewidth\": 0, \"ticks\": \"\"}}, \"marker\": {\"colorbar\": {\"outlinewidth\": 0, \"ticks\": \"\"}}, \"type\": \"scatter3d\"}], \"scattercarpet\": [{\"marker\": {\"colorbar\": {\"outlinewidth\": 0, \"ticks\": \"\"}}, \"type\": \"scattercarpet\"}], \"scattergeo\": [{\"marker\": {\"colorbar\": {\"outlinewidth\": 0, \"ticks\": \"\"}}, \"type\": \"scattergeo\"}], \"scattergl\": [{\"marker\": {\"colorbar\": {\"outlinewidth\": 0, \"ticks\": \"\"}}, \"type\": \"scattergl\"}], \"scattermapbox\": [{\"marker\": {\"colorbar\": {\"outlinewidth\": 0, \"ticks\": \"\"}}, \"type\": \"scattermapbox\"}], \"scatterpolar\": [{\"marker\": {\"colorbar\": {\"outlinewidth\": 0, \"ticks\": \"\"}}, \"type\": \"scatterpolar\"}], \"scatterpolargl\": [{\"marker\": {\"colorbar\": {\"outlinewidth\": 0, \"ticks\": \"\"}}, \"type\": \"scatterpolargl\"}], \"scatterternary\": [{\"marker\": {\"colorbar\": {\"outlinewidth\": 0, \"ticks\": \"\"}}, \"type\": \"scatterternary\"}], \"surface\": [{\"colorbar\": {\"outlinewidth\": 0, \"ticks\": \"\"}, \"colorscale\": [[0.0, \"#0d0887\"], [0.1111111111111111, \"#46039f\"], [0.2222222222222222, \"#7201a8\"], [0.3333333333333333, \"#9c179e\"], [0.4444444444444444, \"#bd3786\"], [0.5555555555555556, \"#d8576b\"], [0.6666666666666666, \"#ed7953\"], [0.7777777777777778, \"#fb9f3a\"], [0.8888888888888888, \"#fdca26\"], [1.0, \"#f0f921\"]], \"type\": \"surface\"}], \"table\": [{\"cells\": {\"fill\": {\"color\": \"#EBF0F8\"}, \"line\": {\"color\": \"white\"}}, \"header\": {\"fill\": {\"color\": \"#C8D4E3\"}, \"line\": {\"color\": \"white\"}}, \"type\": \"table\"}]}, \"layout\": {\"annotationdefaults\": {\"arrowcolor\": \"#2a3f5f\", \"arrowhead\": 0, \"arrowwidth\": 1}, \"coloraxis\": {\"colorbar\": {\"outlinewidth\": 0, \"ticks\": \"\"}}, \"colorscale\": {\"diverging\": [[0, \"#8e0152\"], [0.1, \"#c51b7d\"], [0.2, \"#de77ae\"], [0.3, \"#f1b6da\"], [0.4, \"#fde0ef\"], [0.5, \"#f7f7f7\"], [0.6, \"#e6f5d0\"], [0.7, \"#b8e186\"], [0.8, \"#7fbc41\"], [0.9, \"#4d9221\"], [1, \"#276419\"]], \"sequential\": [[0.0, \"#0d0887\"], [0.1111111111111111, \"#46039f\"], [0.2222222222222222, \"#7201a8\"], [0.3333333333333333, \"#9c179e\"], [0.4444444444444444, \"#bd3786\"], [0.5555555555555556, \"#d8576b\"], [0.6666666666666666, \"#ed7953\"], [0.7777777777777778, \"#fb9f3a\"], [0.8888888888888888, \"#fdca26\"], [1.0, \"#f0f921\"]], \"sequentialminus\": [[0.0, \"#0d0887\"], [0.1111111111111111, \"#46039f\"], [0.2222222222222222, \"#7201a8\"], [0.3333333333333333, \"#9c179e\"], [0.4444444444444444, \"#bd3786\"], [0.5555555555555556, \"#d8576b\"], [0.6666666666666666, \"#ed7953\"], [0.7777777777777778, \"#fb9f3a\"], [0.8888888888888888, \"#fdca26\"], [1.0, \"#f0f921\"]]}, \"colorway\": [\"#636efa\", \"#EF553B\", \"#00cc96\", \"#ab63fa\", \"#FFA15A\", \"#19d3f3\", \"#FF6692\", \"#B6E880\", \"#FF97FF\", \"#FECB52\"], \"font\": {\"color\": \"#2a3f5f\"}, \"geo\": {\"bgcolor\": \"white\", \"lakecolor\": \"white\", \"landcolor\": \"#E5ECF6\", \"showlakes\": true, \"showland\": true, \"subunitcolor\": \"white\"}, \"hoverlabel\": {\"align\": \"left\"}, \"hovermode\": \"closest\", \"mapbox\": {\"style\": \"light\"}, \"paper_bgcolor\": \"white\", \"plot_bgcolor\": \"#E5ECF6\", \"polar\": {\"angularaxis\": {\"gridcolor\": \"white\", \"linecolor\": \"white\", \"ticks\": \"\"}, \"bgcolor\": \"#E5ECF6\", \"radialaxis\": {\"gridcolor\": \"white\", \"linecolor\": \"white\", \"ticks\": \"\"}}, \"scene\": {\"xaxis\": {\"backgroundcolor\": \"#E5ECF6\", \"gridcolor\": \"white\", \"gridwidth\": 2, \"linecolor\": \"white\", \"showbackground\": true, \"ticks\": \"\", \"zerolinecolor\": \"white\"}, \"yaxis\": {\"backgroundcolor\": \"#E5ECF6\", \"gridcolor\": \"white\", \"gridwidth\": 2, \"linecolor\": \"white\", \"showbackground\": true, \"ticks\": \"\", \"zerolinecolor\": \"white\"}, \"zaxis\": {\"backgroundcolor\": \"#E5ECF6\", \"gridcolor\": \"white\", \"gridwidth\": 2, \"linecolor\": \"white\", \"showbackground\": true, \"ticks\": \"\", \"zerolinecolor\": \"white\"}}, \"shapedefaults\": {\"line\": {\"color\": \"#2a3f5f\"}}, \"ternary\": {\"aaxis\": {\"gridcolor\": \"white\", \"linecolor\": \"white\", \"ticks\": \"\"}, \"baxis\": {\"gridcolor\": \"white\", \"linecolor\": \"white\", \"ticks\": \"\"}, \"bgcolor\": \"#E5ECF6\", \"caxis\": {\"gridcolor\": \"white\", \"linecolor\": \"white\", \"ticks\": \"\"}}, \"title\": {\"x\": 0.05}, \"xaxis\": {\"automargin\": true, \"gridcolor\": \"white\", \"linecolor\": \"white\", \"ticks\": \"\", \"title\": {\"standoff\": 15}, \"zerolinecolor\": \"white\", \"zerolinewidth\": 2}, \"yaxis\": {\"automargin\": true, \"gridcolor\": \"white\", \"linecolor\": \"white\", \"ticks\": \"\", \"title\": {\"standoff\": 15}, \"zerolinecolor\": \"white\", \"zerolinewidth\": 2}}}, \"xaxis\": {\"anchor\": \"y\", \"domain\": [0.0, 1.0], \"title\": {\"text\": \"id\"}}, \"yaxis\": {\"anchor\": \"x\", \"domain\": [0.0, 1.0], \"title\": {\"text\": \"y\"}}},                        {\"responsive\": true}                    ).then(function(){\n",
       "                            \n",
       "var gd = document.getElementById('2b824de8-26d9-4376-a4e5-538d345aaede');\n",
       "var x = new MutationObserver(function (mutations, observer) {{\n",
       "        var display = window.getComputedStyle(gd).display;\n",
       "        if (!display || display === 'none') {{\n",
       "            console.log([gd, 'removed!']);\n",
       "            Plotly.purge(gd);\n",
       "            observer.disconnect();\n",
       "        }}\n",
       "}});\n",
       "\n",
       "// Listen for the removal of the full notebook cells\n",
       "var notebookContainer = gd.closest('#notebook-container');\n",
       "if (notebookContainer) {{\n",
       "    x.observe(notebookContainer, {childList: true});\n",
       "}}\n",
       "\n",
       "// Listen for the clearing of the current output cell\n",
       "var outputEl = gd.closest('.output');\n",
       "if (outputEl) {{\n",
       "    x.observe(outputEl, {childList: true});\n",
       "}}\n",
       "\n",
       "                        })                };                });            </script>        </div>"
      ]
     },
     "metadata": {},
     "output_type": "display_data"
    }
   ],
   "source": [
    "import plotly.express as px\n",
    "fig = px.scatter(data, x=X, y=C, color=C)\n",
    "fig.show()\n",
    "fig.write_html(\"fig.html\")"
   ]
  },
  {
   "cell_type": "code",
   "execution_count": null,
   "metadata": {},
   "outputs": [],
   "source": []
  }
 ],
 "metadata": {
  "kernelspec": {
   "display_name": "Python 3",
   "language": "python",
   "name": "python3"
  },
  "language_info": {
   "codemirror_mode": {
    "name": "ipython",
    "version": 3
   },
   "file_extension": ".py",
   "mimetype": "text/x-python",
   "name": "python",
   "nbconvert_exporter": "python",
   "pygments_lexer": "ipython3",
   "version": "3.7.3"
  }
 },
 "nbformat": 4,
 "nbformat_minor": 4
}
